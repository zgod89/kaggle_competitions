{
  "nbformat": 4,
  "nbformat_minor": 0,
  "metadata": {
    "colab": {
      "name": "kaggle_box_office_eda.ipynb",
      "version": "0.3.2",
      "provenance": [],
      "collapsed_sections": [],
      "toc_visible": true
    },
    "kernelspec": {
      "name": "python3",
      "display_name": "Python 3"
    },
    "accelerator": "GPU"
  },
  "cells": [
    {
      "metadata": {
        "id": "lKnVlm9Ht7uh",
        "colab_type": "code",
        "outputId": "dd7d4296-1e56-447b-f943-2163b33ee995",
        "colab": {
          "base_uri": "https://localhost:8080/",
          "height": 272
        }
      },
      "cell_type": "code",
      "source": [
        "# sklearn analytics\n",
        "import seaborn as sns\n",
        "import matplotlib.pyplot as plt\n",
        "%matplotlib inline\n",
        "import matplotlib.cm as cm\n",
        "from sklearn import metrics\n",
        "from sklearn.metrics import classification_report\n",
        "from sklearn.metrics import f1_score\n",
        "from sklearn.metrics import accuracy_score\n",
        "from sklearn.metrics import confusion_matrix\n",
        "from sklearn.model_selection import cross_val_predict\n",
        "from sklearn.model_selection import train_test_split\n",
        "from sklearn.model_selection import cross_val_score\n",
        "from sklearn.model_selection import GridSearchCV\n",
        "from sklearn.metrics import roc_auc_score\n",
        "from sklearn.metrics import roc_curve\n",
        "from sklearn.metrics import precision_recall_curve\n",
        "from sklearn.metrics import f1_score\n",
        "from sklearn.metrics import precision_score, recall_score\n",
        "\n",
        "# Models\n",
        "from sklearn import linear_model\n",
        "from sklearn.ensemble import RandomForestRegressor\n",
        "from sklearn.ensemble import RandomForestRegressor\n",
        "from sklearn.preprocessing import StandardScaler\n",
        "from sklearn.preprocessing import LabelEncoder\n",
        "from sklearn.model_selection import learning_curve\n",
        "from sklearn.model_selection import GridSearchCV\n",
        "from sklearn.model_selection import train_test_split\n",
        "from sklearn import ensemble\n",
        "\n",
        "\n",
        "# General\n",
        "import warnings\n",
        "import numpy as np\n",
        "import pandas as pd\n",
        "import random\n",
        "import os\n",
        "import re\n",
        "import string\n",
        "import statsmodels.api as sm\n",
        "from os import path\n",
        "from PIL import Image\n",
        "from time import time\n",
        "from sklearn import utils\n",
        "!pip install kaggle --upgrade\n",
        "\n",
        "# Warnings\n",
        "warnings.filterwarnings('ignore')\n",
        "\n",
        "from google.colab import drive, files\n",
        "drive.mount('/content/gdrive', force_remount=True)\n",
        "\n",
        "from googleapiclient.discovery import build\n",
        "import io, os\n",
        "from googleapiclient.http import MediaIoBaseDownload\n",
        "from google.colab import auth\n",
        "auth.authenticate_user()"
      ],
      "execution_count": 1,
      "outputs": [
        {
          "output_type": "stream",
          "text": [
            "/usr/local/lib/python3.6/dist-packages/statsmodels/compat/pandas.py:56: FutureWarning: The pandas.core.datetools module is deprecated and will be removed in a future version. Please use the pandas.tseries module instead.\n",
            "  from pandas.core import datetools\n"
          ],
          "name": "stderr"
        },
        {
          "output_type": "stream",
          "text": [
            "Requirement already up-to-date: kaggle in /usr/local/lib/python3.6/dist-packages (1.5.2)\n",
            "Requirement already satisfied, skipping upgrade: urllib3<1.23.0,>=1.15 in /usr/local/lib/python3.6/dist-packages (from kaggle) (1.22)\n",
            "Requirement already satisfied, skipping upgrade: six>=1.10 in /usr/local/lib/python3.6/dist-packages (from kaggle) (1.11.0)\n",
            "Requirement already satisfied, skipping upgrade: certifi in /usr/local/lib/python3.6/dist-packages (from kaggle) (2018.11.29)\n",
            "Requirement already satisfied, skipping upgrade: python-dateutil in /usr/local/lib/python3.6/dist-packages (from kaggle) (2.5.3)\n",
            "Requirement already satisfied, skipping upgrade: requests in /usr/local/lib/python3.6/dist-packages (from kaggle) (2.18.4)\n",
            "Requirement already satisfied, skipping upgrade: tqdm in /usr/local/lib/python3.6/dist-packages (from kaggle) (4.28.1)\n",
            "Requirement already satisfied, skipping upgrade: python-slugify in /usr/local/lib/python3.6/dist-packages (from kaggle) (2.0.1)\n",
            "Requirement already satisfied, skipping upgrade: chardet<3.1.0,>=3.0.2 in /usr/local/lib/python3.6/dist-packages (from requests->kaggle) (3.0.4)\n",
            "Requirement already satisfied, skipping upgrade: idna<2.7,>=2.5 in /usr/local/lib/python3.6/dist-packages (from requests->kaggle) (2.6)\n",
            "Requirement already satisfied, skipping upgrade: Unidecode>=0.04.16 in /usr/local/lib/python3.6/dist-packages (from python-slugify->kaggle) (1.0.23)\n",
            "Mounted at /content/gdrive\n"
          ],
          "name": "stdout"
        }
      ]
    },
    {
      "metadata": {
        "id": "lKjU7mN_ZMTO",
        "colab_type": "code",
        "colab": {}
      },
      "cell_type": "code",
      "source": [
        "!cp /content/.kaggle/kaggle.json ~/.kaggle/kaggle.json"
      ],
      "execution_count": 0,
      "outputs": []
    },
    {
      "metadata": {
        "id": "EsSjO2ClQhiU",
        "colab_type": "code",
        "outputId": "01d61465-5e91-49ab-ee9d-ec20fdb34426",
        "colab": {
          "base_uri": "https://localhost:8080/",
          "height": 34
        }
      },
      "cell_type": "code",
      "source": [
        "drive_service = build('drive', 'v3')\n",
        "results = drive_service.files().list(\n",
        "        q=\"name = 'kaggle.json'\", fields=\"files(id)\").execute()\n",
        "kaggle_api_key = results.get('files', [])\n",
        "filename = \"/content/.kaggle/kaggle.json\"\n",
        "os.makedirs(os.path.dirname(filename), exist_ok=True)\n",
        "request = drive_service.files().get_media(fileId=kaggle_api_key[0]['id'])\n",
        "fh = io.FileIO(filename, 'wb')\n",
        "downloader = MediaIoBaseDownload(fh, request)\n",
        "done = False\n",
        "while done is False:\n",
        "    status, done = downloader.next_chunk()\n",
        "    print(\"Download %d%%.\" % int(status.progress() * 100))\n",
        "os.chmod(filename, 600)"
      ],
      "execution_count": 3,
      "outputs": [
        {
          "output_type": "stream",
          "text": [
            "Download 100%.\n"
          ],
          "name": "stdout"
        }
      ]
    },
    {
      "metadata": {
        "id": "vHzTXVwMQ3Pf",
        "colab_type": "code",
        "outputId": "7ab84134-8631-4593-c225-e326c9612dd4",
        "colab": {
          "base_uri": "https://localhost:8080/",
          "height": 386
        }
      },
      "cell_type": "code",
      "source": [
        "!kaggle competitions list"
      ],
      "execution_count": 4,
      "outputs": [
        {
          "output_type": "stream",
          "text": [
            "ref                                            deadline             category            reward  teamCount  userHasEntered  \n",
            "---------------------------------------------  -------------------  ---------------  ---------  ---------  --------------  \n",
            "digit-recognizer                               2030-01-01 00:00:00  Getting Started  Knowledge       2595           False  \n",
            "titanic                                        2030-01-01 00:00:00  Getting Started  Knowledge      10025           False  \n",
            "house-prices-advanced-regression-techniques    2030-01-01 00:00:00  Getting Started  Knowledge       4110           False  \n",
            "imagenet-object-localization-challenge         2029-12-31 07:00:00  Research         Knowledge         33           False  \n",
            "competitive-data-science-predict-future-sales  2019-12-31 23:59:00  Playground           Kudos       2320           False  \n",
            "two-sigma-financial-news                       2019-07-15 23:59:00  Featured          $100,000       2895           False  \n",
            "LANL-Earthquake-Prediction                     2019-06-03 23:59:00  Research           $50,000       1103           False  \n",
            "tmdb-box-office-prediction                     2019-05-30 23:59:00  Playground       Knowledge        149            True  \n",
            "dont-overfit-ii                                2019-05-07 23:59:00  Playground            Swag        448           False  \n",
            "gendered-pronoun-resolution                    2019-04-22 23:59:00  Research           $25,000        160           False  \n",
            "histopathologic-cancer-detection               2019-03-30 23:59:00  Playground       Knowledge        606           False  \n",
            "petfinder-adoption-prediction                  2019-03-28 23:59:00  Featured           $25,000       1106           False  \n",
            "vsb-power-line-fault-detection                 2019-03-21 23:59:00  Featured           $25,000        885           False  \n",
            "microsoft-malware-prediction                   2019-03-13 23:59:00  Research           $25,000       1661           False  \n",
            "humpback-whale-identification                  2019-02-28 23:59:00  Featured           $25,000       1851           False  \n",
            "elo-merchant-category-recommendation           2019-02-26 23:59:00  Featured           $50,000       3816           False  \n",
            "quora-insincere-questions-classification       2019-02-26 23:59:00  Featured           $25,000       4037           False  \n",
            "ga-customer-revenue-prediction                 2019-02-15 23:59:00  Featured           $45,000       1104           False  \n",
            "reducing-commercial-aviation-fatalities        2019-02-12 23:59:00  Playground            Swag        180           False  \n",
            "pubg-finish-placement-prediction               2019-01-30 23:59:00  Playground            Swag       1534           False  \n"
          ],
          "name": "stdout"
        }
      ]
    },
    {
      "metadata": {
        "id": "xYE2VscWZcyZ",
        "colab_type": "code",
        "outputId": "6794479c-e4eb-40b0-9607-de5a76d4be40",
        "colab": {
          "base_uri": "https://localhost:8080/",
          "height": 101
        }
      },
      "cell_type": "code",
      "source": [
        "!kaggle competitions files -c tmdb-box-office-prediction"
      ],
      "execution_count": 5,
      "outputs": [
        {
          "output_type": "stream",
          "text": [
            "name                   size  creationDate         \n",
            "---------------------  ----  -------------------  \n",
            "sample_submission.csv  60KB  2019-02-06 22:30:31  \n",
            "train.csv              27MB  2019-02-06 22:32:02  \n",
            "test.csv               40MB  2019-02-06 22:32:20  \n"
          ],
          "name": "stdout"
        }
      ]
    },
    {
      "metadata": {
        "id": "LW-saxDRaJND",
        "colab_type": "code",
        "outputId": "fbfffe01-756f-4224-ea31-2a790b2eef74",
        "colab": {
          "base_uri": "https://localhost:8080/",
          "height": 67
        }
      },
      "cell_type": "code",
      "source": [
        "!kaggle competitions download  -c tmdb-box-office-prediction \\\n",
        "-p '/content/My Drive/Data Science/Kaggle/box_office'"
      ],
      "execution_count": 6,
      "outputs": [
        {
          "output_type": "stream",
          "text": [
            "sample_submission.csv: Skipping, found more recently modified local copy (use --force to force download)\n",
            "train.csv.zip: Skipping, found more recently modified local copy (use --force to force download)\n",
            "test.csv.zip: Skipping, found more recently modified local copy (use --force to force download)\n"
          ],
          "name": "stdout"
        }
      ]
    },
    {
      "metadata": {
        "id": "OyoTkXDIzUOD",
        "colab_type": "text"
      },
      "cell_type": "markdown",
      "source": [
        "# **Data Cleaning**"
      ]
    },
    {
      "metadata": {
        "id": "W4Kn22isuiPb",
        "colab_type": "code",
        "outputId": "f9369bd5-f84d-4c79-d4df-ce91e84d04db",
        "colab": {
          "base_uri": "https://localhost:8080/",
          "height": 681
        }
      },
      "cell_type": "code",
      "source": [
        "# Read and Peak at Data\n",
        "import pandas as pd\n",
        "df = pd.read_csv(\n",
        "    '/content/My Drive/Data Science/Kaggle/box_office/train.csv.zip', \n",
        "    compression='zip', header=0, sep=',', quotechar='\"')\n",
        "\n",
        "# Extracting Missing Count and Unique Count by Column\n",
        "unique_count = []\n",
        "for x in df.columns:\n",
        "    unique_count.append([x, len(df[x].unique()), df[x].isnull().sum()])\n",
        "\n",
        "# Missing Values\n",
        "print(\"Missing Values: {}\".format(df.isnull().sum().sum()))\n",
        "\n",
        "# Data Dimensions\n",
        "print(\"Dataframe Dimension: {} Rows, {} Columns\".format(*df.shape))\n",
        "\n",
        "## Release Date is a string, converting it to pd.datetime ##\n",
        "df['release_date'] = pd.to_datetime(df['release_date'])\n",
        "\n",
        "# Creat new features with just the month and year\n",
        "df['month'] = df['release_date'].map(lambda x: x.month)\n",
        "df['year'] = df['release_date'].map(lambda x: x.year)\n",
        "\n",
        "## Check Our Work ##\n",
        "df.head()"
      ],
      "execution_count": 7,
      "outputs": [
        {
          "output_type": "stream",
          "text": [
            "Missing Values: 5601\n",
            "Dataframe Dimension: 3000 Rows, 23 Columns\n"
          ],
          "name": "stdout"
        },
        {
          "output_type": "execute_result",
          "data": {
            "text/html": [
              "<div>\n",
              "<style scoped>\n",
              "    .dataframe tbody tr th:only-of-type {\n",
              "        vertical-align: middle;\n",
              "    }\n",
              "\n",
              "    .dataframe tbody tr th {\n",
              "        vertical-align: top;\n",
              "    }\n",
              "\n",
              "    .dataframe thead th {\n",
              "        text-align: right;\n",
              "    }\n",
              "</style>\n",
              "<table border=\"1\" class=\"dataframe\">\n",
              "  <thead>\n",
              "    <tr style=\"text-align: right;\">\n",
              "      <th></th>\n",
              "      <th>id</th>\n",
              "      <th>belongs_to_collection</th>\n",
              "      <th>budget</th>\n",
              "      <th>genres</th>\n",
              "      <th>homepage</th>\n",
              "      <th>imdb_id</th>\n",
              "      <th>original_language</th>\n",
              "      <th>original_title</th>\n",
              "      <th>overview</th>\n",
              "      <th>popularity</th>\n",
              "      <th>...</th>\n",
              "      <th>spoken_languages</th>\n",
              "      <th>status</th>\n",
              "      <th>tagline</th>\n",
              "      <th>title</th>\n",
              "      <th>Keywords</th>\n",
              "      <th>cast</th>\n",
              "      <th>crew</th>\n",
              "      <th>revenue</th>\n",
              "      <th>month</th>\n",
              "      <th>year</th>\n",
              "    </tr>\n",
              "  </thead>\n",
              "  <tbody>\n",
              "    <tr>\n",
              "      <th>0</th>\n",
              "      <td>1</td>\n",
              "      <td>[{'id': 313576, 'name': 'Hot Tub Time Machine ...</td>\n",
              "      <td>14000000</td>\n",
              "      <td>[{'id': 35, 'name': 'Comedy'}]</td>\n",
              "      <td>NaN</td>\n",
              "      <td>tt2637294</td>\n",
              "      <td>en</td>\n",
              "      <td>Hot Tub Time Machine 2</td>\n",
              "      <td>When Lou, who has become the \"father of the In...</td>\n",
              "      <td>6.575393</td>\n",
              "      <td>...</td>\n",
              "      <td>[{'iso_639_1': 'en', 'name': 'English'}]</td>\n",
              "      <td>Released</td>\n",
              "      <td>The Laws of Space and Time are About to be Vio...</td>\n",
              "      <td>Hot Tub Time Machine 2</td>\n",
              "      <td>[{'id': 4379, 'name': 'time travel'}, {'id': 9...</td>\n",
              "      <td>[{'cast_id': 4, 'character': 'Lou', 'credit_id...</td>\n",
              "      <td>[{'credit_id': '59ac067c92514107af02c8c8', 'de...</td>\n",
              "      <td>12314651</td>\n",
              "      <td>2</td>\n",
              "      <td>2015</td>\n",
              "    </tr>\n",
              "    <tr>\n",
              "      <th>1</th>\n",
              "      <td>2</td>\n",
              "      <td>[{'id': 107674, 'name': 'The Princess Diaries ...</td>\n",
              "      <td>40000000</td>\n",
              "      <td>[{'id': 35, 'name': 'Comedy'}, {'id': 18, 'nam...</td>\n",
              "      <td>NaN</td>\n",
              "      <td>tt0368933</td>\n",
              "      <td>en</td>\n",
              "      <td>The Princess Diaries 2: Royal Engagement</td>\n",
              "      <td>Mia Thermopolis is now a college graduate and ...</td>\n",
              "      <td>8.248895</td>\n",
              "      <td>...</td>\n",
              "      <td>[{'iso_639_1': 'en', 'name': 'English'}]</td>\n",
              "      <td>Released</td>\n",
              "      <td>It can take a lifetime to find true love; she'...</td>\n",
              "      <td>The Princess Diaries 2: Royal Engagement</td>\n",
              "      <td>[{'id': 2505, 'name': 'coronation'}, {'id': 42...</td>\n",
              "      <td>[{'cast_id': 1, 'character': 'Mia Thermopolis'...</td>\n",
              "      <td>[{'credit_id': '52fe43fe9251416c7502563d', 'de...</td>\n",
              "      <td>95149435</td>\n",
              "      <td>8</td>\n",
              "      <td>2004</td>\n",
              "    </tr>\n",
              "    <tr>\n",
              "      <th>2</th>\n",
              "      <td>3</td>\n",
              "      <td>NaN</td>\n",
              "      <td>3300000</td>\n",
              "      <td>[{'id': 18, 'name': 'Drama'}]</td>\n",
              "      <td>http://sonyclassics.com/whiplash/</td>\n",
              "      <td>tt2582802</td>\n",
              "      <td>en</td>\n",
              "      <td>Whiplash</td>\n",
              "      <td>Under the direction of a ruthless instructor, ...</td>\n",
              "      <td>64.299990</td>\n",
              "      <td>...</td>\n",
              "      <td>[{'iso_639_1': 'en', 'name': 'English'}]</td>\n",
              "      <td>Released</td>\n",
              "      <td>The road to greatness can take you to the edge.</td>\n",
              "      <td>Whiplash</td>\n",
              "      <td>[{'id': 1416, 'name': 'jazz'}, {'id': 1523, 'n...</td>\n",
              "      <td>[{'cast_id': 5, 'character': 'Andrew Neimann',...</td>\n",
              "      <td>[{'credit_id': '54d5356ec3a3683ba0000039', 'de...</td>\n",
              "      <td>13092000</td>\n",
              "      <td>10</td>\n",
              "      <td>2014</td>\n",
              "    </tr>\n",
              "    <tr>\n",
              "      <th>3</th>\n",
              "      <td>4</td>\n",
              "      <td>NaN</td>\n",
              "      <td>1200000</td>\n",
              "      <td>[{'id': 53, 'name': 'Thriller'}, {'id': 18, 'n...</td>\n",
              "      <td>http://kahaanithefilm.com/</td>\n",
              "      <td>tt1821480</td>\n",
              "      <td>hi</td>\n",
              "      <td>Kahaani</td>\n",
              "      <td>Vidya Bagchi (Vidya Balan) arrives in Kolkata ...</td>\n",
              "      <td>3.174936</td>\n",
              "      <td>...</td>\n",
              "      <td>[{'iso_639_1': 'en', 'name': 'English'}, {'iso...</td>\n",
              "      <td>Released</td>\n",
              "      <td>NaN</td>\n",
              "      <td>Kahaani</td>\n",
              "      <td>[{'id': 10092, 'name': 'mystery'}, {'id': 1054...</td>\n",
              "      <td>[{'cast_id': 1, 'character': 'Vidya Bagchi', '...</td>\n",
              "      <td>[{'credit_id': '52fe48779251416c9108d6eb', 'de...</td>\n",
              "      <td>16000000</td>\n",
              "      <td>3</td>\n",
              "      <td>2012</td>\n",
              "    </tr>\n",
              "    <tr>\n",
              "      <th>4</th>\n",
              "      <td>5</td>\n",
              "      <td>NaN</td>\n",
              "      <td>0</td>\n",
              "      <td>[{'id': 28, 'name': 'Action'}, {'id': 53, 'nam...</td>\n",
              "      <td>NaN</td>\n",
              "      <td>tt1380152</td>\n",
              "      <td>ko</td>\n",
              "      <td>마린보이</td>\n",
              "      <td>Marine Boy is the story of a former national s...</td>\n",
              "      <td>1.148070</td>\n",
              "      <td>...</td>\n",
              "      <td>[{'iso_639_1': 'ko', 'name': '한국어/조선말'}]</td>\n",
              "      <td>Released</td>\n",
              "      <td>NaN</td>\n",
              "      <td>Marine Boy</td>\n",
              "      <td>NaN</td>\n",
              "      <td>[{'cast_id': 3, 'character': 'Chun-soo', 'cred...</td>\n",
              "      <td>[{'credit_id': '52fe464b9251416c75073b43', 'de...</td>\n",
              "      <td>3923970</td>\n",
              "      <td>2</td>\n",
              "      <td>2009</td>\n",
              "    </tr>\n",
              "  </tbody>\n",
              "</table>\n",
              "<p>5 rows × 25 columns</p>\n",
              "</div>"
            ],
            "text/plain": [
              "   id                              belongs_to_collection    budget  \\\n",
              "0   1  [{'id': 313576, 'name': 'Hot Tub Time Machine ...  14000000   \n",
              "1   2  [{'id': 107674, 'name': 'The Princess Diaries ...  40000000   \n",
              "2   3                                                NaN   3300000   \n",
              "3   4                                                NaN   1200000   \n",
              "4   5                                                NaN         0   \n",
              "\n",
              "                                              genres  \\\n",
              "0                     [{'id': 35, 'name': 'Comedy'}]   \n",
              "1  [{'id': 35, 'name': 'Comedy'}, {'id': 18, 'nam...   \n",
              "2                      [{'id': 18, 'name': 'Drama'}]   \n",
              "3  [{'id': 53, 'name': 'Thriller'}, {'id': 18, 'n...   \n",
              "4  [{'id': 28, 'name': 'Action'}, {'id': 53, 'nam...   \n",
              "\n",
              "                            homepage    imdb_id original_language  \\\n",
              "0                                NaN  tt2637294                en   \n",
              "1                                NaN  tt0368933                en   \n",
              "2  http://sonyclassics.com/whiplash/  tt2582802                en   \n",
              "3         http://kahaanithefilm.com/  tt1821480                hi   \n",
              "4                                NaN  tt1380152                ko   \n",
              "\n",
              "                             original_title  \\\n",
              "0                    Hot Tub Time Machine 2   \n",
              "1  The Princess Diaries 2: Royal Engagement   \n",
              "2                                  Whiplash   \n",
              "3                                   Kahaani   \n",
              "4                                      마린보이   \n",
              "\n",
              "                                            overview  popularity  ...   \\\n",
              "0  When Lou, who has become the \"father of the In...    6.575393  ...    \n",
              "1  Mia Thermopolis is now a college graduate and ...    8.248895  ...    \n",
              "2  Under the direction of a ruthless instructor, ...   64.299990  ...    \n",
              "3  Vidya Bagchi (Vidya Balan) arrives in Kolkata ...    3.174936  ...    \n",
              "4  Marine Boy is the story of a former national s...    1.148070  ...    \n",
              "\n",
              "                                    spoken_languages    status  \\\n",
              "0           [{'iso_639_1': 'en', 'name': 'English'}]  Released   \n",
              "1           [{'iso_639_1': 'en', 'name': 'English'}]  Released   \n",
              "2           [{'iso_639_1': 'en', 'name': 'English'}]  Released   \n",
              "3  [{'iso_639_1': 'en', 'name': 'English'}, {'iso...  Released   \n",
              "4           [{'iso_639_1': 'ko', 'name': '한국어/조선말'}]  Released   \n",
              "\n",
              "                                             tagline  \\\n",
              "0  The Laws of Space and Time are About to be Vio...   \n",
              "1  It can take a lifetime to find true love; she'...   \n",
              "2    The road to greatness can take you to the edge.   \n",
              "3                                                NaN   \n",
              "4                                                NaN   \n",
              "\n",
              "                                      title  \\\n",
              "0                    Hot Tub Time Machine 2   \n",
              "1  The Princess Diaries 2: Royal Engagement   \n",
              "2                                  Whiplash   \n",
              "3                                   Kahaani   \n",
              "4                                Marine Boy   \n",
              "\n",
              "                                            Keywords  \\\n",
              "0  [{'id': 4379, 'name': 'time travel'}, {'id': 9...   \n",
              "1  [{'id': 2505, 'name': 'coronation'}, {'id': 42...   \n",
              "2  [{'id': 1416, 'name': 'jazz'}, {'id': 1523, 'n...   \n",
              "3  [{'id': 10092, 'name': 'mystery'}, {'id': 1054...   \n",
              "4                                                NaN   \n",
              "\n",
              "                                                cast  \\\n",
              "0  [{'cast_id': 4, 'character': 'Lou', 'credit_id...   \n",
              "1  [{'cast_id': 1, 'character': 'Mia Thermopolis'...   \n",
              "2  [{'cast_id': 5, 'character': 'Andrew Neimann',...   \n",
              "3  [{'cast_id': 1, 'character': 'Vidya Bagchi', '...   \n",
              "4  [{'cast_id': 3, 'character': 'Chun-soo', 'cred...   \n",
              "\n",
              "                                                crew   revenue month  year  \n",
              "0  [{'credit_id': '59ac067c92514107af02c8c8', 'de...  12314651     2  2015  \n",
              "1  [{'credit_id': '52fe43fe9251416c7502563d', 'de...  95149435     8  2004  \n",
              "2  [{'credit_id': '54d5356ec3a3683ba0000039', 'de...  13092000    10  2014  \n",
              "3  [{'credit_id': '52fe48779251416c9108d6eb', 'de...  16000000     3  2012  \n",
              "4  [{'credit_id': '52fe464b9251416c75073b43', 'de...   3923970     2  2009  \n",
              "\n",
              "[5 rows x 25 columns]"
            ]
          },
          "metadata": {
            "tags": []
          },
          "execution_count": 7
        }
      ]
    },
    {
      "metadata": {
        "id": "V1lGrm-nccCA",
        "colab_type": "code",
        "outputId": "bed64a3f-1f2e-4a1c-cae1-5b3f6f418e77",
        "colab": {
          "base_uri": "https://localhost:8080/",
          "height": 134
        }
      },
      "cell_type": "code",
      "source": [
        "print(df.columns)"
      ],
      "execution_count": 8,
      "outputs": [
        {
          "output_type": "stream",
          "text": [
            "Index(['id', 'belongs_to_collection', 'budget', 'genres', 'homepage',\n",
            "       'imdb_id', 'original_language', 'original_title', 'overview',\n",
            "       'popularity', 'poster_path', 'production_companies',\n",
            "       'production_countries', 'release_date', 'runtime', 'spoken_languages',\n",
            "       'status', 'tagline', 'title', 'Keywords', 'cast', 'crew', 'revenue',\n",
            "       'month', 'year'],\n",
            "      dtype='object')\n"
          ],
          "name": "stdout"
        }
      ]
    },
    {
      "metadata": {
        "id": "a7CzjGhrlPy_",
        "colab_type": "text"
      },
      "cell_type": "markdown",
      "source": [
        "To start simply, I'm going to make a copy of the data frame that drops the dictionaries and values that don't inherently seem useful."
      ]
    },
    {
      "metadata": {
        "id": "k3xY4NKLlMB5",
        "colab_type": "code",
        "colab": {
          "base_uri": "https://localhost:8080/",
          "height": 195
        },
        "outputId": "08225af1-bde4-40df-c510-2c6edef44b64"
      },
      "cell_type": "code",
      "source": [
        "columns_to_drop = ['belongs_to_collection', 'genres', 'homepage',\n",
        "       'imdb_id', 'original_title',\n",
        "       'poster_path', 'production_companies',\n",
        "       'production_countries', 'release_date', 'spoken_languages',\n",
        "       'status', 'tagline', 'Keywords', 'cast', 'crew'] \n",
        "df_simp = df.drop(columns_to_drop, axis=1)\n",
        "df_simp.head()"
      ],
      "execution_count": 9,
      "outputs": [
        {
          "output_type": "execute_result",
          "data": {
            "text/html": [
              "<div>\n",
              "<style scoped>\n",
              "    .dataframe tbody tr th:only-of-type {\n",
              "        vertical-align: middle;\n",
              "    }\n",
              "\n",
              "    .dataframe tbody tr th {\n",
              "        vertical-align: top;\n",
              "    }\n",
              "\n",
              "    .dataframe thead th {\n",
              "        text-align: right;\n",
              "    }\n",
              "</style>\n",
              "<table border=\"1\" class=\"dataframe\">\n",
              "  <thead>\n",
              "    <tr style=\"text-align: right;\">\n",
              "      <th></th>\n",
              "      <th>id</th>\n",
              "      <th>budget</th>\n",
              "      <th>original_language</th>\n",
              "      <th>overview</th>\n",
              "      <th>popularity</th>\n",
              "      <th>runtime</th>\n",
              "      <th>title</th>\n",
              "      <th>revenue</th>\n",
              "      <th>month</th>\n",
              "      <th>year</th>\n",
              "    </tr>\n",
              "  </thead>\n",
              "  <tbody>\n",
              "    <tr>\n",
              "      <th>0</th>\n",
              "      <td>1</td>\n",
              "      <td>14000000</td>\n",
              "      <td>en</td>\n",
              "      <td>When Lou, who has become the \"father of the In...</td>\n",
              "      <td>6.575393</td>\n",
              "      <td>93.0</td>\n",
              "      <td>Hot Tub Time Machine 2</td>\n",
              "      <td>12314651</td>\n",
              "      <td>2</td>\n",
              "      <td>2015</td>\n",
              "    </tr>\n",
              "    <tr>\n",
              "      <th>1</th>\n",
              "      <td>2</td>\n",
              "      <td>40000000</td>\n",
              "      <td>en</td>\n",
              "      <td>Mia Thermopolis is now a college graduate and ...</td>\n",
              "      <td>8.248895</td>\n",
              "      <td>113.0</td>\n",
              "      <td>The Princess Diaries 2: Royal Engagement</td>\n",
              "      <td>95149435</td>\n",
              "      <td>8</td>\n",
              "      <td>2004</td>\n",
              "    </tr>\n",
              "    <tr>\n",
              "      <th>2</th>\n",
              "      <td>3</td>\n",
              "      <td>3300000</td>\n",
              "      <td>en</td>\n",
              "      <td>Under the direction of a ruthless instructor, ...</td>\n",
              "      <td>64.299990</td>\n",
              "      <td>105.0</td>\n",
              "      <td>Whiplash</td>\n",
              "      <td>13092000</td>\n",
              "      <td>10</td>\n",
              "      <td>2014</td>\n",
              "    </tr>\n",
              "    <tr>\n",
              "      <th>3</th>\n",
              "      <td>4</td>\n",
              "      <td>1200000</td>\n",
              "      <td>hi</td>\n",
              "      <td>Vidya Bagchi (Vidya Balan) arrives in Kolkata ...</td>\n",
              "      <td>3.174936</td>\n",
              "      <td>122.0</td>\n",
              "      <td>Kahaani</td>\n",
              "      <td>16000000</td>\n",
              "      <td>3</td>\n",
              "      <td>2012</td>\n",
              "    </tr>\n",
              "    <tr>\n",
              "      <th>4</th>\n",
              "      <td>5</td>\n",
              "      <td>0</td>\n",
              "      <td>ko</td>\n",
              "      <td>Marine Boy is the story of a former national s...</td>\n",
              "      <td>1.148070</td>\n",
              "      <td>118.0</td>\n",
              "      <td>Marine Boy</td>\n",
              "      <td>3923970</td>\n",
              "      <td>2</td>\n",
              "      <td>2009</td>\n",
              "    </tr>\n",
              "  </tbody>\n",
              "</table>\n",
              "</div>"
            ],
            "text/plain": [
              "   id    budget original_language  \\\n",
              "0   1  14000000                en   \n",
              "1   2  40000000                en   \n",
              "2   3   3300000                en   \n",
              "3   4   1200000                hi   \n",
              "4   5         0                ko   \n",
              "\n",
              "                                            overview  popularity  runtime  \\\n",
              "0  When Lou, who has become the \"father of the In...    6.575393     93.0   \n",
              "1  Mia Thermopolis is now a college graduate and ...    8.248895    113.0   \n",
              "2  Under the direction of a ruthless instructor, ...   64.299990    105.0   \n",
              "3  Vidya Bagchi (Vidya Balan) arrives in Kolkata ...    3.174936    122.0   \n",
              "4  Marine Boy is the story of a former national s...    1.148070    118.0   \n",
              "\n",
              "                                      title   revenue  month  year  \n",
              "0                    Hot Tub Time Machine 2  12314651      2  2015  \n",
              "1  The Princess Diaries 2: Royal Engagement  95149435      8  2004  \n",
              "2                                  Whiplash  13092000     10  2014  \n",
              "3                                   Kahaani  16000000      3  2012  \n",
              "4                                Marine Boy   3923970      2  2009  "
            ]
          },
          "metadata": {
            "tags": []
          },
          "execution_count": 9
        }
      ]
    },
    {
      "metadata": {
        "id": "S14PkydIQtwV",
        "colab_type": "code",
        "colab": {
          "base_uri": "https://localhost:8080/",
          "height": 50
        },
        "outputId": "c0670f25-187e-4d5e-ff8e-6d7a6a0d9913"
      },
      "cell_type": "code",
      "source": [
        "# Missing Values\n",
        "print(\"Missing Values: {}\".format(df_simp.isnull().sum().sum()))\n",
        "\n",
        "# Data Dimensions\n",
        "print(\"Dataframe Dimension: {} Rows, {} Columns\".format(*df_simp.shape))"
      ],
      "execution_count": 10,
      "outputs": [
        {
          "output_type": "stream",
          "text": [
            "Missing Values: 10\n",
            "Dataframe Dimension: 3000 Rows, 10 Columns\n"
          ],
          "name": "stdout"
        }
      ]
    },
    {
      "metadata": {
        "id": "L2TN-hthurdM",
        "colab_type": "code",
        "outputId": "475a1f71-51c3-4c52-9af5-f5a7b2c0aa67",
        "colab": {
          "base_uri": "https://localhost:8080/",
          "height": 284
        }
      },
      "cell_type": "code",
      "source": [
        "df_simp.describe()"
      ],
      "execution_count": 11,
      "outputs": [
        {
          "output_type": "execute_result",
          "data": {
            "text/html": [
              "<div>\n",
              "<style scoped>\n",
              "    .dataframe tbody tr th:only-of-type {\n",
              "        vertical-align: middle;\n",
              "    }\n",
              "\n",
              "    .dataframe tbody tr th {\n",
              "        vertical-align: top;\n",
              "    }\n",
              "\n",
              "    .dataframe thead th {\n",
              "        text-align: right;\n",
              "    }\n",
              "</style>\n",
              "<table border=\"1\" class=\"dataframe\">\n",
              "  <thead>\n",
              "    <tr style=\"text-align: right;\">\n",
              "      <th></th>\n",
              "      <th>id</th>\n",
              "      <th>budget</th>\n",
              "      <th>popularity</th>\n",
              "      <th>runtime</th>\n",
              "      <th>revenue</th>\n",
              "      <th>month</th>\n",
              "      <th>year</th>\n",
              "    </tr>\n",
              "  </thead>\n",
              "  <tbody>\n",
              "    <tr>\n",
              "      <th>count</th>\n",
              "      <td>3000.000000</td>\n",
              "      <td>3.000000e+03</td>\n",
              "      <td>3000.000000</td>\n",
              "      <td>2998.000000</td>\n",
              "      <td>3.000000e+03</td>\n",
              "      <td>3000.000000</td>\n",
              "      <td>3000.000000</td>\n",
              "    </tr>\n",
              "    <tr>\n",
              "      <th>mean</th>\n",
              "      <td>1500.500000</td>\n",
              "      <td>2.253133e+07</td>\n",
              "      <td>8.463274</td>\n",
              "      <td>107.856571</td>\n",
              "      <td>6.672585e+07</td>\n",
              "      <td>6.775333</td>\n",
              "      <td>2004.579667</td>\n",
              "    </tr>\n",
              "    <tr>\n",
              "      <th>std</th>\n",
              "      <td>866.169729</td>\n",
              "      <td>3.702609e+07</td>\n",
              "      <td>12.104000</td>\n",
              "      <td>22.086434</td>\n",
              "      <td>1.375323e+08</td>\n",
              "      <td>3.409115</td>\n",
              "      <td>15.480790</td>\n",
              "    </tr>\n",
              "    <tr>\n",
              "      <th>min</th>\n",
              "      <td>1.000000</td>\n",
              "      <td>0.000000e+00</td>\n",
              "      <td>0.000001</td>\n",
              "      <td>0.000000</td>\n",
              "      <td>1.000000e+00</td>\n",
              "      <td>1.000000</td>\n",
              "      <td>1969.000000</td>\n",
              "    </tr>\n",
              "    <tr>\n",
              "      <th>25%</th>\n",
              "      <td>750.750000</td>\n",
              "      <td>0.000000e+00</td>\n",
              "      <td>4.018053</td>\n",
              "      <td>94.000000</td>\n",
              "      <td>2.379808e+06</td>\n",
              "      <td>4.000000</td>\n",
              "      <td>1995.000000</td>\n",
              "    </tr>\n",
              "    <tr>\n",
              "      <th>50%</th>\n",
              "      <td>1500.500000</td>\n",
              "      <td>8.000000e+06</td>\n",
              "      <td>7.374861</td>\n",
              "      <td>104.000000</td>\n",
              "      <td>1.680707e+07</td>\n",
              "      <td>7.000000</td>\n",
              "      <td>2006.000000</td>\n",
              "    </tr>\n",
              "    <tr>\n",
              "      <th>75%</th>\n",
              "      <td>2250.250000</td>\n",
              "      <td>2.900000e+07</td>\n",
              "      <td>10.890983</td>\n",
              "      <td>118.000000</td>\n",
              "      <td>6.891920e+07</td>\n",
              "      <td>10.000000</td>\n",
              "      <td>2012.000000</td>\n",
              "    </tr>\n",
              "    <tr>\n",
              "      <th>max</th>\n",
              "      <td>3000.000000</td>\n",
              "      <td>3.800000e+08</td>\n",
              "      <td>294.337037</td>\n",
              "      <td>338.000000</td>\n",
              "      <td>1.519558e+09</td>\n",
              "      <td>12.000000</td>\n",
              "      <td>2068.000000</td>\n",
              "    </tr>\n",
              "  </tbody>\n",
              "</table>\n",
              "</div>"
            ],
            "text/plain": [
              "                id        budget   popularity      runtime       revenue  \\\n",
              "count  3000.000000  3.000000e+03  3000.000000  2998.000000  3.000000e+03   \n",
              "mean   1500.500000  2.253133e+07     8.463274   107.856571  6.672585e+07   \n",
              "std     866.169729  3.702609e+07    12.104000    22.086434  1.375323e+08   \n",
              "min       1.000000  0.000000e+00     0.000001     0.000000  1.000000e+00   \n",
              "25%     750.750000  0.000000e+00     4.018053    94.000000  2.379808e+06   \n",
              "50%    1500.500000  8.000000e+06     7.374861   104.000000  1.680707e+07   \n",
              "75%    2250.250000  2.900000e+07    10.890983   118.000000  6.891920e+07   \n",
              "max    3000.000000  3.800000e+08   294.337037   338.000000  1.519558e+09   \n",
              "\n",
              "             month         year  \n",
              "count  3000.000000  3000.000000  \n",
              "mean      6.775333  2004.579667  \n",
              "std       3.409115    15.480790  \n",
              "min       1.000000  1969.000000  \n",
              "25%       4.000000  1995.000000  \n",
              "50%       7.000000  2006.000000  \n",
              "75%      10.000000  2012.000000  \n",
              "max      12.000000  2068.000000  "
            ]
          },
          "metadata": {
            "tags": []
          },
          "execution_count": 11
        }
      ]
    },
    {
      "metadata": {
        "id": "0q0Z0X_cQ6tk",
        "colab_type": "code",
        "colab": {
          "base_uri": "https://localhost:8080/",
          "height": 195
        },
        "outputId": "ad1e9ae7-f33d-455c-afe9-e34b834c73f0"
      },
      "cell_type": "code",
      "source": [
        "# Fill zeroes in budget with mean\n",
        "mean_budget = df_simp.budget.mean(skipna=True)\n",
        "df_simp['budget'] = df_simp.budget.mask(\n",
        "    df_simp.budget == 0, mean_budget)\n",
        "df_simp['budget'] = df_simp.budget.fillna(mean_budget).astype(int)\n",
        "\n",
        "# Fill zeroes in runtime with mean\n",
        "mean_runtime = df_simp.runtime.mean(skipna=True)\n",
        "df_simp['runtime'] = df_simp.runtime.mask(\n",
        "    df_simp.runtime == 0, mean_runtime)\n",
        "df_simp['runtime'] = df_simp.runtime.fillna(mean_runtime).astype(int)\n",
        "\n",
        "df_simp.head()"
      ],
      "execution_count": 12,
      "outputs": [
        {
          "output_type": "execute_result",
          "data": {
            "text/html": [
              "<div>\n",
              "<style scoped>\n",
              "    .dataframe tbody tr th:only-of-type {\n",
              "        vertical-align: middle;\n",
              "    }\n",
              "\n",
              "    .dataframe tbody tr th {\n",
              "        vertical-align: top;\n",
              "    }\n",
              "\n",
              "    .dataframe thead th {\n",
              "        text-align: right;\n",
              "    }\n",
              "</style>\n",
              "<table border=\"1\" class=\"dataframe\">\n",
              "  <thead>\n",
              "    <tr style=\"text-align: right;\">\n",
              "      <th></th>\n",
              "      <th>id</th>\n",
              "      <th>budget</th>\n",
              "      <th>original_language</th>\n",
              "      <th>overview</th>\n",
              "      <th>popularity</th>\n",
              "      <th>runtime</th>\n",
              "      <th>title</th>\n",
              "      <th>revenue</th>\n",
              "      <th>month</th>\n",
              "      <th>year</th>\n",
              "    </tr>\n",
              "  </thead>\n",
              "  <tbody>\n",
              "    <tr>\n",
              "      <th>0</th>\n",
              "      <td>1</td>\n",
              "      <td>14000000</td>\n",
              "      <td>en</td>\n",
              "      <td>When Lou, who has become the \"father of the In...</td>\n",
              "      <td>6.575393</td>\n",
              "      <td>93</td>\n",
              "      <td>Hot Tub Time Machine 2</td>\n",
              "      <td>12314651</td>\n",
              "      <td>2</td>\n",
              "      <td>2015</td>\n",
              "    </tr>\n",
              "    <tr>\n",
              "      <th>1</th>\n",
              "      <td>2</td>\n",
              "      <td>40000000</td>\n",
              "      <td>en</td>\n",
              "      <td>Mia Thermopolis is now a college graduate and ...</td>\n",
              "      <td>8.248895</td>\n",
              "      <td>113</td>\n",
              "      <td>The Princess Diaries 2: Royal Engagement</td>\n",
              "      <td>95149435</td>\n",
              "      <td>8</td>\n",
              "      <td>2004</td>\n",
              "    </tr>\n",
              "    <tr>\n",
              "      <th>2</th>\n",
              "      <td>3</td>\n",
              "      <td>3300000</td>\n",
              "      <td>en</td>\n",
              "      <td>Under the direction of a ruthless instructor, ...</td>\n",
              "      <td>64.299990</td>\n",
              "      <td>105</td>\n",
              "      <td>Whiplash</td>\n",
              "      <td>13092000</td>\n",
              "      <td>10</td>\n",
              "      <td>2014</td>\n",
              "    </tr>\n",
              "    <tr>\n",
              "      <th>3</th>\n",
              "      <td>4</td>\n",
              "      <td>1200000</td>\n",
              "      <td>hi</td>\n",
              "      <td>Vidya Bagchi (Vidya Balan) arrives in Kolkata ...</td>\n",
              "      <td>3.174936</td>\n",
              "      <td>122</td>\n",
              "      <td>Kahaani</td>\n",
              "      <td>16000000</td>\n",
              "      <td>3</td>\n",
              "      <td>2012</td>\n",
              "    </tr>\n",
              "    <tr>\n",
              "      <th>4</th>\n",
              "      <td>5</td>\n",
              "      <td>22531334</td>\n",
              "      <td>ko</td>\n",
              "      <td>Marine Boy is the story of a former national s...</td>\n",
              "      <td>1.148070</td>\n",
              "      <td>118</td>\n",
              "      <td>Marine Boy</td>\n",
              "      <td>3923970</td>\n",
              "      <td>2</td>\n",
              "      <td>2009</td>\n",
              "    </tr>\n",
              "  </tbody>\n",
              "</table>\n",
              "</div>"
            ],
            "text/plain": [
              "   id    budget original_language  \\\n",
              "0   1  14000000                en   \n",
              "1   2  40000000                en   \n",
              "2   3   3300000                en   \n",
              "3   4   1200000                hi   \n",
              "4   5  22531334                ko   \n",
              "\n",
              "                                            overview  popularity  runtime  \\\n",
              "0  When Lou, who has become the \"father of the In...    6.575393       93   \n",
              "1  Mia Thermopolis is now a college graduate and ...    8.248895      113   \n",
              "2  Under the direction of a ruthless instructor, ...   64.299990      105   \n",
              "3  Vidya Bagchi (Vidya Balan) arrives in Kolkata ...    3.174936      122   \n",
              "4  Marine Boy is the story of a former national s...    1.148070      118   \n",
              "\n",
              "                                      title   revenue  month  year  \n",
              "0                    Hot Tub Time Machine 2  12314651      2  2015  \n",
              "1  The Princess Diaries 2: Royal Engagement  95149435      8  2004  \n",
              "2                                  Whiplash  13092000     10  2014  \n",
              "3                                   Kahaani  16000000      3  2012  \n",
              "4                                Marine Boy   3923970      2  2009  "
            ]
          },
          "metadata": {
            "tags": []
          },
          "execution_count": 12
        }
      ]
    },
    {
      "metadata": {
        "id": "3C0pbSvCR57H",
        "colab_type": "code",
        "colab": {
          "base_uri": "https://localhost:8080/",
          "height": 50
        },
        "outputId": "6f2fec7a-772d-461f-9174-a4d3bc50c24d"
      },
      "cell_type": "code",
      "source": [
        "# Missing Values\n",
        "print(\"Missing Values: {}\".format(df_simp.isnull().sum().sum()))\n",
        "\n",
        "# Data Dimensions\n",
        "print(\"Dataframe Dimension: {} Rows, {} Columns\".format(*df_simp.shape))"
      ],
      "execution_count": 13,
      "outputs": [
        {
          "output_type": "stream",
          "text": [
            "Missing Values: 8\n",
            "Dataframe Dimension: 3000 Rows, 10 Columns\n"
          ],
          "name": "stdout"
        }
      ]
    },
    {
      "metadata": {
        "id": "SrbdYRRBR9nR",
        "colab_type": "code",
        "colab": {
          "base_uri": "https://localhost:8080/",
          "height": 50
        },
        "outputId": "a5b85863-a75f-4ca2-f19d-a36dc5d489a0"
      },
      "cell_type": "code",
      "source": [
        "# Drop remaining rows with missing data\n",
        "# as it represents < 3% of the data\n",
        "\n",
        "df_simp = df_simp.dropna()\n",
        "\n",
        "# Missing Values\n",
        "print(\"Missing Values: {}\".format(df_simp.isnull().sum().sum()))\n",
        "\n",
        "# Data Dimensions\n",
        "print(\"Dataframe Dimension: {} Rows, {} Columns\".format(*df_simp.shape))"
      ],
      "execution_count": 14,
      "outputs": [
        {
          "output_type": "stream",
          "text": [
            "Missing Values: 0\n",
            "Dataframe Dimension: 2992 Rows, 10 Columns\n"
          ],
          "name": "stdout"
        }
      ]
    },
    {
      "metadata": {
        "id": "vDTFOowgpuoY",
        "colab_type": "text"
      },
      "cell_type": "markdown",
      "source": [
        "We have many features in the data, so first I will separate out the continuous variables. We want to make sure there are no missing values, and then we will check for outliers. \n",
        "\n",
        "# **Continuous Variable EDA and Feature Creation**"
      ]
    },
    {
      "metadata": {
        "id": "mIc86X25n9fN",
        "colab_type": "code",
        "outputId": "beeefd51-71bc-4ddf-94f0-e9afe6f1a358",
        "colab": {
          "base_uri": "https://localhost:8080/",
          "height": 1087
        }
      },
      "cell_type": "code",
      "source": [
        "#Examining the distributions of continuous variables \n",
        "sns.distplot(df_simp.budget)\n",
        "plt.show()\n",
        "sns.distplot(df_simp.popularity)\n",
        "plt.show()\n",
        "sns.distplot(df_simp.runtime.round())\n",
        "plt.show()\n",
        "sns.distplot(df_simp.revenue)\n",
        "plt.show()"
      ],
      "execution_count": 15,
      "outputs": [
        {
          "output_type": "display_data",
          "data": {
            "image/png": "[encoded data removed]",
            "text/plain": [
              "<Figure size 432x288 with 1 Axes>"
            ]
          },
          "metadata": {
            "tags": []
          }
        },
        {
          "output_type": "display_data",
          "data": {
            "image/png": "[encoded data removed]",
            "text/plain": [
              "<Figure size 432x288 with 1 Axes>"
            ]
          },
          "metadata": {
            "tags": []
          }
        },
        {
          "output_type": "display_data",
          "data": {
            "image/png": "[encoded data removed]",
            "text/plain": [
              "<Figure size 432x288 with 1 Axes>"
            ]
          },
          "metadata": {
            "tags": []
          }
        },
        {
          "output_type": "display_data",
          "data": {
            "image/png": "[encoded data removed]",
            "text/plain": [
              "<Figure size 432x288 with 1 Axes>"
            ]
          },
          "metadata": {
            "tags": []
          }
        }
      ]
    },
    {
      "metadata": {
        "id": "oboozk6ym-GL",
        "colab_type": "text"
      },
      "cell_type": "markdown",
      "source": [
        "We have some skewed variables. Let's investigate a few transformations and see if we can get a Gaussian distribution."
      ]
    },
    {
      "metadata": {
        "colab_type": "code",
        "id": "zLu9p_x5SwP1",
        "colab": {}
      },
      "cell_type": "code",
      "source": [
        ""
      ],
      "execution_count": 0,
      "outputs": []
    },
    {
      "metadata": {
        "id": "1yaxIoVUfQ-c",
        "colab_type": "code",
        "colab": {
          "base_uri": "https://localhost:8080/",
          "height": 343
        },
        "outputId": "d7ed572a-55e4-4958-b97d-8cad0805be7f"
      },
      "cell_type": "code",
      "source": [
        "#Creating Transformed Variables\n",
        "df_simp['budget'] = df_simp.budget.astype(int)\n",
        "df_simp['log_budget'] = np.log(df_simp.budget)\n",
        "\n",
        "df_simp['log_revenue'] = np.log(df_simp.revenue)\n",
        "\n",
        "df_simp['log_popularity'] = np.log(df_simp.popularity)\n",
        "\n",
        "df_simp.head(10)"
      ],
      "execution_count": 16,
      "outputs": [
        {
          "output_type": "execute_result",
          "data": {
            "text/html": [
              "<div>\n",
              "<style scoped>\n",
              "    .dataframe tbody tr th:only-of-type {\n",
              "        vertical-align: middle;\n",
              "    }\n",
              "\n",
              "    .dataframe tbody tr th {\n",
              "        vertical-align: top;\n",
              "    }\n",
              "\n",
              "    .dataframe thead th {\n",
              "        text-align: right;\n",
              "    }\n",
              "</style>\n",
              "<table border=\"1\" class=\"dataframe\">\n",
              "  <thead>\n",
              "    <tr style=\"text-align: right;\">\n",
              "      <th></th>\n",
              "      <th>id</th>\n",
              "      <th>budget</th>\n",
              "      <th>original_language</th>\n",
              "      <th>overview</th>\n",
              "      <th>popularity</th>\n",
              "      <th>runtime</th>\n",
              "      <th>title</th>\n",
              "      <th>revenue</th>\n",
              "      <th>month</th>\n",
              "      <th>year</th>\n",
              "      <th>log_budget</th>\n",
              "      <th>log_revenue</th>\n",
              "      <th>log_popularity</th>\n",
              "    </tr>\n",
              "  </thead>\n",
              "  <tbody>\n",
              "    <tr>\n",
              "      <th>0</th>\n",
              "      <td>1</td>\n",
              "      <td>14000000</td>\n",
              "      <td>en</td>\n",
              "      <td>When Lou, who has become the \"father of the In...</td>\n",
              "      <td>6.575393</td>\n",
              "      <td>93</td>\n",
              "      <td>Hot Tub Time Machine 2</td>\n",
              "      <td>12314651</td>\n",
              "      <td>2</td>\n",
              "      <td>2015</td>\n",
              "      <td>16.454568</td>\n",
              "      <td>16.326300</td>\n",
              "      <td>1.883334</td>\n",
              "    </tr>\n",
              "    <tr>\n",
              "      <th>1</th>\n",
              "      <td>2</td>\n",
              "      <td>40000000</td>\n",
              "      <td>en</td>\n",
              "      <td>Mia Thermopolis is now a college graduate and ...</td>\n",
              "      <td>8.248895</td>\n",
              "      <td>113</td>\n",
              "      <td>The Princess Diaries 2: Royal Engagement</td>\n",
              "      <td>95149435</td>\n",
              "      <td>8</td>\n",
              "      <td>2004</td>\n",
              "      <td>17.504390</td>\n",
              "      <td>18.370959</td>\n",
              "      <td>2.110079</td>\n",
              "    </tr>\n",
              "    <tr>\n",
              "      <th>2</th>\n",
              "      <td>3</td>\n",
              "      <td>3300000</td>\n",
              "      <td>en</td>\n",
              "      <td>Under the direction of a ruthless instructor, ...</td>\n",
              "      <td>64.299990</td>\n",
              "      <td>105</td>\n",
              "      <td>Whiplash</td>\n",
              "      <td>13092000</td>\n",
              "      <td>10</td>\n",
              "      <td>2014</td>\n",
              "      <td>15.009433</td>\n",
              "      <td>16.387512</td>\n",
              "      <td>4.163559</td>\n",
              "    </tr>\n",
              "    <tr>\n",
              "      <th>3</th>\n",
              "      <td>4</td>\n",
              "      <td>1200000</td>\n",
              "      <td>hi</td>\n",
              "      <td>Vidya Bagchi (Vidya Balan) arrives in Kolkata ...</td>\n",
              "      <td>3.174936</td>\n",
              "      <td>122</td>\n",
              "      <td>Kahaani</td>\n",
              "      <td>16000000</td>\n",
              "      <td>3</td>\n",
              "      <td>2012</td>\n",
              "      <td>13.997832</td>\n",
              "      <td>16.588099</td>\n",
              "      <td>1.155287</td>\n",
              "    </tr>\n",
              "    <tr>\n",
              "      <th>4</th>\n",
              "      <td>5</td>\n",
              "      <td>22531334</td>\n",
              "      <td>ko</td>\n",
              "      <td>Marine Boy is the story of a former national s...</td>\n",
              "      <td>1.148070</td>\n",
              "      <td>118</td>\n",
              "      <td>Marine Boy</td>\n",
              "      <td>3923970</td>\n",
              "      <td>2</td>\n",
              "      <td>2009</td>\n",
              "      <td>16.930418</td>\n",
              "      <td>15.182614</td>\n",
              "      <td>0.138082</td>\n",
              "    </tr>\n",
              "    <tr>\n",
              "      <th>5</th>\n",
              "      <td>6</td>\n",
              "      <td>8000000</td>\n",
              "      <td>en</td>\n",
              "      <td>Pinocchio and his friends, a glow worm and a m...</td>\n",
              "      <td>0.743274</td>\n",
              "      <td>83</td>\n",
              "      <td>Pinocchio and the Emperor of the Night</td>\n",
              "      <td>3261638</td>\n",
              "      <td>8</td>\n",
              "      <td>1987</td>\n",
              "      <td>15.894952</td>\n",
              "      <td>14.997740</td>\n",
              "      <td>-0.296691</td>\n",
              "    </tr>\n",
              "    <tr>\n",
              "      <th>6</th>\n",
              "      <td>7</td>\n",
              "      <td>14000000</td>\n",
              "      <td>en</td>\n",
              "      <td>A young girl buys an antique box at a yard sal...</td>\n",
              "      <td>7.286477</td>\n",
              "      <td>92</td>\n",
              "      <td>The Possession</td>\n",
              "      <td>85446075</td>\n",
              "      <td>8</td>\n",
              "      <td>2012</td>\n",
              "      <td>16.454568</td>\n",
              "      <td>18.263396</td>\n",
              "      <td>1.986020</td>\n",
              "    </tr>\n",
              "    <tr>\n",
              "      <th>7</th>\n",
              "      <td>8</td>\n",
              "      <td>22531334</td>\n",
              "      <td>en</td>\n",
              "      <td>A chronicle which provides a rare window into ...</td>\n",
              "      <td>1.949044</td>\n",
              "      <td>84</td>\n",
              "      <td>Control Room</td>\n",
              "      <td>2586511</td>\n",
              "      <td>1</td>\n",
              "      <td>2004</td>\n",
              "      <td>16.930418</td>\n",
              "      <td>14.765820</td>\n",
              "      <td>0.667339</td>\n",
              "    </tr>\n",
              "    <tr>\n",
              "      <th>8</th>\n",
              "      <td>9</td>\n",
              "      <td>22531334</td>\n",
              "      <td>en</td>\n",
              "      <td>After telling the story of Flint's last journe...</td>\n",
              "      <td>6.902423</td>\n",
              "      <td>100</td>\n",
              "      <td>Muppet Treasure Island</td>\n",
              "      <td>34327391</td>\n",
              "      <td>2</td>\n",
              "      <td>1996</td>\n",
              "      <td>16.930418</td>\n",
              "      <td>17.351454</td>\n",
              "      <td>1.931873</td>\n",
              "    </tr>\n",
              "    <tr>\n",
              "      <th>9</th>\n",
              "      <td>10</td>\n",
              "      <td>6000000</td>\n",
              "      <td>en</td>\n",
              "      <td>In \"A Mighty Wind\", director Christopher Guest...</td>\n",
              "      <td>4.672036</td>\n",
              "      <td>91</td>\n",
              "      <td>A Mighty Wind</td>\n",
              "      <td>18750246</td>\n",
              "      <td>4</td>\n",
              "      <td>2003</td>\n",
              "      <td>15.607270</td>\n",
              "      <td>16.746717</td>\n",
              "      <td>1.541595</td>\n",
              "    </tr>\n",
              "  </tbody>\n",
              "</table>\n",
              "</div>"
            ],
            "text/plain": [
              "   id    budget original_language  \\\n",
              "0   1  14000000                en   \n",
              "1   2  40000000                en   \n",
              "2   3   3300000                en   \n",
              "3   4   1200000                hi   \n",
              "4   5  22531334                ko   \n",
              "5   6   8000000                en   \n",
              "6   7  14000000                en   \n",
              "7   8  22531334                en   \n",
              "8   9  22531334                en   \n",
              "9  10   6000000                en   \n",
              "\n",
              "                                            overview  popularity  runtime  \\\n",
              "0  When Lou, who has become the \"father of the In...    6.575393       93   \n",
              "1  Mia Thermopolis is now a college graduate and ...    8.248895      113   \n",
              "2  Under the direction of a ruthless instructor, ...   64.299990      105   \n",
              "3  Vidya Bagchi (Vidya Balan) arrives in Kolkata ...    3.174936      122   \n",
              "4  Marine Boy is the story of a former national s...    1.148070      118   \n",
              "5  Pinocchio and his friends, a glow worm and a m...    0.743274       83   \n",
              "6  A young girl buys an antique box at a yard sal...    7.286477       92   \n",
              "7  A chronicle which provides a rare window into ...    1.949044       84   \n",
              "8  After telling the story of Flint's last journe...    6.902423      100   \n",
              "9  In \"A Mighty Wind\", director Christopher Guest...    4.672036       91   \n",
              "\n",
              "                                      title   revenue  month  year  \\\n",
              "0                    Hot Tub Time Machine 2  12314651      2  2015   \n",
              "1  The Princess Diaries 2: Royal Engagement  95149435      8  2004   \n",
              "2                                  Whiplash  13092000     10  2014   \n",
              "3                                   Kahaani  16000000      3  2012   \n",
              "4                                Marine Boy   3923970      2  2009   \n",
              "5    Pinocchio and the Emperor of the Night   3261638      8  1987   \n",
              "6                            The Possession  85446075      8  2012   \n",
              "7                              Control Room   2586511      1  2004   \n",
              "8                    Muppet Treasure Island  34327391      2  1996   \n",
              "9                             A Mighty Wind  18750246      4  2003   \n",
              "\n",
              "   log_budget  log_revenue  log_popularity  \n",
              "0   16.454568    16.326300        1.883334  \n",
              "1   17.504390    18.370959        2.110079  \n",
              "2   15.009433    16.387512        4.163559  \n",
              "3   13.997832    16.588099        1.155287  \n",
              "4   16.930418    15.182614        0.138082  \n",
              "5   15.894952    14.997740       -0.296691  \n",
              "6   16.454568    18.263396        1.986020  \n",
              "7   16.930418    14.765820        0.667339  \n",
              "8   16.930418    17.351454        1.931873  \n",
              "9   15.607270    16.746717        1.541595  "
            ]
          },
          "metadata": {
            "tags": []
          },
          "execution_count": 16
        }
      ]
    },
    {
      "metadata": {
        "id": "OnYMKaDqm9nl",
        "colab_type": "code",
        "outputId": "026cda12-4384-43ef-d2c6-5c439352b1d1",
        "colab": {
          "base_uri": "https://localhost:8080/",
          "height": 1066
        }
      },
      "cell_type": "code",
      "source": [
        "#Examining the distributions of continuous variables \n",
        "sns.distplot(df_simp.log_budget)\n",
        "plt.show()\n",
        "sns.distplot(df_simp.runtime)\n",
        "plt.show()\n",
        "sns.distplot(df_simp.log_popularity)\n",
        "plt.show()\n",
        "sns.distplot(df_simp.log_revenue)\n",
        "plt.show()"
      ],
      "execution_count": 17,
      "outputs": [
        {
          "output_type": "display_data",
          "data": {
            "image/png": "[encoded data removed]",
            "text/plain": [
              "<Figure size 432x288 with 1 Axes>"
            ]
          },
          "metadata": {
            "tags": []
          }
        },
        {
          "output_type": "display_data",
          "data": {
            "image/png": "[encoded data removed]",
            "text/plain": [
              "<Figure size 432x288 with 1 Axes>"
            ]
          },
          "metadata": {
            "tags": []
          }
        },
        {
          "output_type": "display_data",
          "data": {
            "image/png": "[encoded data removed]",
            "text/plain": [
              "<Figure size 432x288 with 1 Axes>"
            ]
          },
          "metadata": {
            "tags": []
          }
        },
        {
          "output_type": "display_data",
          "data": {
            "image/png": "[encoded data removed]",
            "text/plain": [
              "<Figure size 432x288 with 1 Axes>"
            ]
          },
          "metadata": {
            "tags": []
          }
        }
      ]
    },
    {
      "metadata": {
        "id": "8A4rmDAWVwO-",
        "colab_type": "code",
        "outputId": "c4c4673c-3f03-4310-8b31-21faa135f5e6",
        "colab": {
          "base_uri": "https://localhost:8080/",
          "height": 297
        }
      },
      "cell_type": "code",
      "source": [
        "# Checking for outliers in the continuous variables\n",
        "green_diamond = dict(markerfacecolor='g', marker='D')\n",
        "\n",
        "# Split variables for better axis sharing\n",
        "boxplot = df_simp.boxplot(\n",
        "    column=['log_budget', 'log_popularity', 'log_revenue'], \n",
        "                     showfliers=True, flierprops=green_diamond)\n",
        "plt.tight_layout()\n",
        "plt.show()"
      ],
      "execution_count": 18,
      "outputs": [
        {
          "output_type": "display_data",
          "data": {
            "image/png": "[encoded data removed]",
            "text/plain": [
              "<Figure size 432x288 with 1 Axes>"
            ]
          },
          "metadata": {
            "tags": []
          }
        }
      ]
    },
    {
      "metadata": {
        "id": "7Mol5RQsUX4h",
        "colab_type": "code",
        "colab": {
          "base_uri": "https://localhost:8080/",
          "height": 297
        },
        "outputId": "acd97291-9821-49c5-edbf-d3de7090d485"
      },
      "cell_type": "code",
      "source": [
        "# Code to remove outliers\n",
        "df_simp = df_simp[\n",
        "    np.abs(\n",
        "        df_simp.log_budget-df_simp.log_budget.mean(\n",
        "        )) <= (2*df_simp.log_budget.std())]\n",
        "df_simp = df_simp[\n",
        "    np.abs(\n",
        "        df_simp.log_popularity-df_simp.log_popularity.mean(\n",
        "        )) <= (2*df_simp.log_popularity.std())]\n",
        "df_simp = df_simp[np.abs(\n",
        "    df_simp.log_revenue-df_simp.log_revenue.mean(\n",
        "    )) <= (2*df_simp.log_revenue.std())]\n",
        "\n",
        "# Split variables for better axis sharing\n",
        "boxplot = df_simp.boxplot(\n",
        "    column=['log_budget', 'log_popularity', 'log_revenue'], \n",
        "                     showfliers=True, flierprops=green_diamond)\n",
        "plt.tight_layout()\n",
        "plt.show()"
      ],
      "execution_count": 19,
      "outputs": [
        {
          "output_type": "display_data",
          "data": {
            "image/png": "[encoded data removed]",
            "text/plain": [
              "<Figure size 432x288 with 1 Axes>"
            ]
          },
          "metadata": {
            "tags": []
          }
        }
      ]
    },
    {
      "metadata": {
        "id": "xODe-uLkVOPt",
        "colab_type": "code",
        "colab": {
          "base_uri": "https://localhost:8080/",
          "height": 50
        },
        "outputId": "c98fd28f-0fae-473e-df34-a536dc842c66"
      },
      "cell_type": "code",
      "source": [
        "# Missing Values\n",
        "print(\"Missing Values: {}\".format(df_simp.isnull().sum().sum()))\n",
        "\n",
        "# Data Dimensions\n",
        "print(\"Dataframe Dimension: {} Rows, {} Columns\".format(*df_simp.shape))"
      ],
      "execution_count": 20,
      "outputs": [
        {
          "output_type": "stream",
          "text": [
            "Missing Values: 0\n",
            "Dataframe Dimension: 2655 Rows, 13 Columns\n"
          ],
          "name": "stdout"
        }
      ]
    },
    {
      "metadata": {
        "id": "zhYPyvt1Vyk0",
        "colab_type": "code",
        "colab": {
          "base_uri": "https://localhost:8080/",
          "height": 1067
        },
        "outputId": "407a87d9-4179-49d1-f91a-da9b372d51c0"
      },
      "cell_type": "code",
      "source": [
        "#Examining the distributions of continuous variables \n",
        "sns.distplot(df_simp.log_budget)\n",
        "plt.show()\n",
        "sns.distplot(df_simp.runtime)\n",
        "plt.show()\n",
        "sns.distplot(df_simp.log_popularity)\n",
        "plt.show()\n",
        "sns.distplot(df_simp.log_revenue)\n",
        "plt.show()"
      ],
      "execution_count": 21,
      "outputs": [
        {
          "output_type": "display_data",
          "data": {
            "image/png": "[encoded data removed]",
            "text/plain": [
              "<Figure size 432x288 with 1 Axes>"
            ]
          },
          "metadata": {
            "tags": []
          }
        },
        {
          "output_type": "display_data",
          "data": {
            "image/png": "[encoded data removed]",
            "text/plain": [
              "<Figure size 432x288 with 1 Axes>"
            ]
          },
          "metadata": {
            "tags": []
          }
        },
        {
          "output_type": "display_data",
          "data": {
            "image/png": "[encoded data removed]",
            "text/plain": [
              "<Figure size 432x288 with 1 Axes>"
            ]
          },
          "metadata": {
            "tags": []
          }
        },
        {
          "output_type": "display_data",
          "data": {
            "image/png": "[encoded data removed]",
            "text/plain": [
              "<Figure size 432x288 with 1 Axes>"
            ]
          },
          "metadata": {
            "tags": []
          }
        }
      ]
    },
    {
      "metadata": {
        "colab_type": "text",
        "id": "cVDJ8PYmmLgF"
      },
      "cell_type": "markdown",
      "source": [
        "We now have more Gaussian distributions for the continuous variables. \n"
      ]
    },
    {
      "metadata": {
        "id": "IGyFY2KDvhxF",
        "colab_type": "code",
        "outputId": "ec164a14-57ec-4d10-f35f-d082b34fbdd1",
        "colab": {
          "base_uri": "https://localhost:8080/",
          "height": 1043
        }
      },
      "cell_type": "code",
      "source": [
        "# Making correlation matrix.\n",
        "\n",
        "\n",
        "corrmat = df_simp.corr()\n",
        "print(corrmat)\n",
        "\n",
        "# Set up the matplotlib figure.\n",
        "f, ax = plt.subplots(figsize=(12, 9))\n",
        "\n",
        "# Draw the heatmap using seaborn.\n",
        "sns.heatmap(corrmat, vmax=1, vmin=0, square=True)\n",
        "plt.tight_layout()\n",
        "#plt.savefig('.png', dpi=300)\n",
        "plt.show()"
      ],
      "execution_count": 22,
      "outputs": [
        {
          "output_type": "stream",
          "text": [
            "                      id    budget  popularity   runtime   revenue     month  \\\n",
            "id              1.000000  0.018704   -0.003502  0.018749  0.000562  0.019292   \n",
            "budget          0.018704  1.000000    0.400856  0.200820  0.727866  0.029664   \n",
            "popularity     -0.003502  0.400856    1.000000  0.153167  0.512381  0.037648   \n",
            "runtime         0.018749  0.200820    0.153167  1.000000  0.208786  0.170940   \n",
            "revenue         0.000562  0.727866    0.512381  0.208786  1.000000  0.035483   \n",
            "month           0.019292  0.029664    0.037648  0.170940  0.035483  1.000000   \n",
            "year           -0.005238  0.039221    0.082560  0.131721  0.024369 -0.009433   \n",
            "log_budget      0.004453  0.750724    0.300865  0.133501  0.473959  0.035351   \n",
            "log_revenue     0.001042  0.482681    0.490111  0.185340  0.620074  0.044130   \n",
            "log_popularity  0.003494  0.314623    0.864735  0.109489  0.381489  0.035354   \n",
            "\n",
            "                    year  log_budget  log_revenue  log_popularity  \n",
            "id             -0.005238    0.004453     0.001042        0.003494  \n",
            "budget          0.039221    0.750724     0.482681        0.314623  \n",
            "popularity      0.082560    0.300865     0.490111        0.864735  \n",
            "runtime         0.131721    0.133501     0.185340        0.109489  \n",
            "revenue         0.024369    0.473959     0.620074        0.381489  \n",
            "month          -0.009433    0.035351     0.044130        0.035354  \n",
            "year            1.000000   -0.079113    -0.061340        0.089445  \n",
            "log_budget     -0.079113    1.000000     0.436906        0.280494  \n",
            "log_revenue    -0.061340    0.436906     1.000000        0.506608  \n",
            "log_popularity  0.089445    0.280494     0.506608        1.000000  \n"
          ],
          "name": "stdout"
        },
        {
          "output_type": "display_data",
          "data": {
            "image/png": "[encoded data removed]",
            "text/plain": [
              "<Figure size 864x648 with 2 Axes>"
            ]
          },
          "metadata": {
            "tags": []
          }
        }
      ]
    },
    {
      "metadata": {
        "id": "NcdJjUwo1dbw",
        "colab_type": "text"
      },
      "cell_type": "markdown",
      "source": [
        ""
      ]
    },
    {
      "metadata": {
        "id": "9UbZi0uYZQ5f",
        "colab_type": "code",
        "colab": {
          "base_uri": "https://localhost:8080/",
          "height": 84
        },
        "outputId": "89aad49d-3250-4424-ce30-6d7f245b8850"
      },
      "cell_type": "code",
      "source": [
        "df_simp.columns"
      ],
      "execution_count": 23,
      "outputs": [
        {
          "output_type": "execute_result",
          "data": {
            "text/plain": [
              "Index(['id', 'budget', 'original_language', 'overview', 'popularity',\n",
              "       'runtime', 'title', 'revenue', 'month', 'year', 'log_budget',\n",
              "       'log_revenue', 'log_popularity'],\n",
              "      dtype='object')"
            ]
          },
          "metadata": {
            "tags": []
          },
          "execution_count": 23
        }
      ]
    },
    {
      "metadata": {
        "id": "vtUY0NufQZpI",
        "colab_type": "code",
        "outputId": "b8931848-ab54-4bb4-b72c-1c91308cab93",
        "colab": {
          "base_uri": "https://localhost:8080/",
          "height": 796
        }
      },
      "cell_type": "code",
      "source": [
        "# Make the scatterplot matrix\n",
        "\n",
        "# Set the default plot aesthetics to be prettier.\n",
        "sns.set_style(\"white\")\n",
        "\n",
        "cont_var = df_simp\n",
        "to_drop2 = ['id', 'budget', 'original_language', 'overview', 'popularity',\n",
        "       'runtime', 'title', 'month', 'year']\n",
        "cont_var = cont_var.drop(to_drop2, axis=1)\n",
        "\n",
        "# Make a copy of the data to add jitter to and plot.\n",
        "df_jittered = cont_var.loc[:, :].dropna()\n",
        "\n",
        "# Making the random noise.\n",
        "jitter = pd.DataFrame(\n",
        "    np.random.uniform(-.3, .3, size=(df_jittered.shape)),\n",
        "    columns=df_jittered.columns\n",
        ")\n",
        "# Combine the data and the noise.\n",
        "df_jittered = df_jittered.add(jitter)\n",
        "\n",
        "# Make a scatterplot matrix.\n",
        "g = sns.PairGrid(df_jittered.dropna(), diag_sharey=False)\n",
        "\n",
        "# Scatterplot.\n",
        "g.map_upper(plt.scatter, alpha=.5)\n",
        "\n",
        "# Fit line summarizing the linear relationship of the two variables.\n",
        "g.map_lower(sns.regplot, scatter_kws=dict(alpha=0))\n",
        "\n",
        "# Give information about the univariate distributions of the variables.\n",
        "g.map_diag(sns.kdeplot, lw=3)\n",
        "plt.tight_layout()\n",
        "#plt.savefig('.png', dpi=200)\n",
        "plt.show()"
      ],
      "execution_count": 24,
      "outputs": [
        {
          "output_type": "stream",
          "text": [
            "No handles with labels found to put in legend.\n",
            "No handles with labels found to put in legend.\n",
            "No handles with labels found to put in legend.\n",
            "No handles with labels found to put in legend.\n"
          ],
          "name": "stderr"
        },
        {
          "output_type": "display_data",
          "data": {
            "image/png": "[encoded data removed]",
            "text/plain": [
              "<Figure size 720x720 with 20 Axes>"
            ]
          },
          "metadata": {
            "tags": []
          }
        }
      ]
    },
    {
      "metadata": {
        "id": "MKuC7QGF9Zzl",
        "colab_type": "text"
      },
      "cell_type": "markdown",
      "source": [
        "# **Categorical Variable EDA**"
      ]
    },
    {
      "metadata": {
        "id": "LTmDipYTZnBu",
        "colab_type": "code",
        "colab": {
          "base_uri": "https://localhost:8080/",
          "height": 84
        },
        "outputId": "92f91269-66f1-406a-b967-01a78cca2bc3"
      },
      "cell_type": "code",
      "source": [
        "df_simp.columns"
      ],
      "execution_count": 25,
      "outputs": [
        {
          "output_type": "execute_result",
          "data": {
            "text/plain": [
              "Index(['id', 'budget', 'original_language', 'overview', 'popularity',\n",
              "       'runtime', 'title', 'revenue', 'month', 'year', 'log_budget',\n",
              "       'log_revenue', 'log_popularity'],\n",
              "      dtype='object')"
            ]
          },
          "metadata": {
            "tags": []
          },
          "execution_count": 25
        }
      ]
    },
    {
      "metadata": {
        "id": "RdZGCcRt-Q8h",
        "colab_type": "code",
        "outputId": "0bb89adc-7ff2-4e4c-d58b-11c75e0e47bd",
        "colab": {
          "base_uri": "https://localhost:8080/",
          "height": 1009
        }
      },
      "cell_type": "code",
      "source": [
        "# Exploring film counts by original language\n",
        "z = df_simp.groupby(by=['original_language'], as_index=False).count(\n",
        ").sort_values(by='id', ascending=False)\n",
        "\n",
        "# Plotting\n",
        "plt.figure(figsize=(12, 7))\n",
        "sns.set_style(\"whitegrid\")\n",
        "ax = sns.barplot(x=z['original_language'], y=z['id'], data=z)\n",
        "plt.xlabel(\"\\nOriginal Language\")\n",
        "plt.ylabel(\"Counts\")\n",
        "plt.title(\"Film Counts By Language\\n\")\n",
        "#plt.savefig(\"Counts By Language.png\", dpi =300)\n",
        "plt.tight_layout()\n",
        "plt.show()\n",
        "\n",
        "# Showing all languages that are not English\n",
        "df_foreign = df_simp[(df_simp['original_language'] != 'en')]\n",
        "\n",
        "z = df_foreign.groupby(by=['original_language'], as_index=False).count(\n",
        ").sort_values(by='revenue', ascending=False)\n",
        "\n",
        "# Plotting\n",
        "plt.figure(figsize=(12, 7))\n",
        "sns.set_style(\"whitegrid\")\n",
        "ax = sns.barplot(x=z['original_language'], y=z['id'], data=z)\n",
        "plt.xlabel(\"\\nOriginal Language\")\n",
        "plt.ylabel(\"Counts\")\n",
        "plt.title(\"Film Counts By Non-English Language\\n\")\n",
        "#plt.savefig(\"Counts By Language.png\", dpi =300)\n",
        "plt.tight_layout()\n",
        "plt.show()"
      ],
      "execution_count": 26,
      "outputs": [
        {
          "output_type": "display_data",
          "data": {
            "image/png": "[encoded data removed]",
            "text/plain": [
              "<Figure size 864x504 with 1 Axes>"
            ]
          },
          "metadata": {
            "tags": []
          }
        },
        {
          "output_type": "display_data",
          "data": {
            "image/png": "[encoded data removed]",
            "text/plain": [
              "<Figure size 864x504 with 1 Axes>"
            ]
          },
          "metadata": {
            "tags": []
          }
        }
      ]
    },
    {
      "metadata": {
        "id": "V3ysrSg_cBoh",
        "colab_type": "text"
      },
      "cell_type": "markdown",
      "source": [
        "English original language films make up the overwhelming majority of the data. This feature may skew the results of any modeling."
      ]
    },
    {
      "metadata": {
        "id": "3bADqUiGnEvq",
        "colab_type": "code",
        "outputId": "26dd2208-6350-44d6-cfa2-5b4adcb16846",
        "colab": {
          "base_uri": "https://localhost:8080/",
          "height": 513
        }
      },
      "cell_type": "code",
      "source": [
        "# Exploring film counts released per year\n",
        "\n",
        "# We need to remove unreleased films\n",
        "df_released = df_simp[(df_simp['year'] <= 2017)]\n",
        "\n",
        "z = df_released.groupby(by=['year'], as_index=False).sum()\n",
        "\n",
        "plt.figure(figsize=(14, 7))\n",
        "sns.set_style(\"whitegrid\")\n",
        "ax = sns.barplot(x=z['year'], y=z['log_revenue'], data=z)\n",
        "plt.xlabel(\"\\nYear\")\n",
        "plt.xticks(rotation=45)\n",
        "plt.ylabel(\"Log Revenue\")\n",
        "plt.title(\"Log Revenue By Release Year\\n\")\n",
        "plt.tight_layout()\n",
        "#plt.savefig(\"Counts By Language.png\", dpi =300)\n",
        "plt.show()"
      ],
      "execution_count": 27,
      "outputs": [
        {
          "output_type": "display_data",
          "data": {
            "image/png": "[encoded data removed]",
            "text/plain": [
              "<Figure size 1008x504 with 1 Axes>"
            ]
          },
          "metadata": {
            "tags": []
          }
        }
      ]
    },
    {
      "metadata": {
        "id": "i0S2xi4Yc1d_",
        "colab_type": "text"
      },
      "cell_type": "markdown",
      "source": [
        "We can see that theatrical releases for films have increased earned revenue at a relatively steady rate. We do see that 2017 appears to have incomplete data. It may be worth dropping that year when we move to modeling."
      ]
    },
    {
      "metadata": {
        "id": "8D6VP3p3sDtZ",
        "colab_type": "code",
        "outputId": "be74bfce-d7b4-48df-bed7-4d217ee844ae",
        "colab": {
          "base_uri": "https://localhost:8080/",
          "height": 513
        }
      },
      "cell_type": "code",
      "source": [
        "# Exploring film counts per release month\n",
        "z = df_simp.groupby(by=['month'], as_index=False).sum()\n",
        "\n",
        "# Plotting\n",
        "plt.figure(figsize=(12, 7))\n",
        "sns.set_style(\"whitegrid\")\n",
        "ax = sns.barplot(x=z['month'], y=z['log_revenue'], data=z)\n",
        "plt.xlabel(\"\\nMonth\")\n",
        "plt.ylabel(\"Log Revenue\")\n",
        "plt.title(\"Mean Film Counts By Release Month\\n\")\n",
        "plt.tight_layout()\n",
        "#plt.savefig(\".png\", dpi =300)\n",
        "plt.show()"
      ],
      "execution_count": 28,
      "outputs": [
        {
          "output_type": "display_data",
          "data": {
            "image/png": "[encoded data removed]",
            "text/plain": [
              "<Figure size 864x504 with 1 Axes>"
            ]
          },
          "metadata": {
            "tags": []
          }
        }
      ]
    },
    {
      "metadata": {
        "id": "eMssoiq5DOzK",
        "colab_type": "text"
      },
      "cell_type": "markdown",
      "source": [
        "There is definitely a relationship between revenue and the month a film is released. This could be a useful feature."
      ]
    },
    {
      "metadata": {
        "id": "MlobIz47DIta",
        "colab_type": "text"
      },
      "cell_type": "markdown",
      "source": [
        "Based on the findings of the categorical EDA, I will drop the original language feature as well as release year after 2016."
      ]
    },
    {
      "metadata": {
        "id": "HbRMq9i8jMXB",
        "colab_type": "code",
        "colab": {
          "base_uri": "https://localhost:8080/",
          "height": 284
        },
        "outputId": "dc2096cb-8740-4ea8-a1f5-590aa2aa2e50"
      },
      "cell_type": "code",
      "source": [
        "df_simp = df_simp.drop(['original_language'], axis = 1)\n",
        "df_simp = df_simp[(df_simp['year'] <= 2016)]\n",
        "\n",
        "df_simp.describe()"
      ],
      "execution_count": 29,
      "outputs": [
        {
          "output_type": "execute_result",
          "data": {
            "text/html": [
              "<div>\n",
              "<style scoped>\n",
              "    .dataframe tbody tr th:only-of-type {\n",
              "        vertical-align: middle;\n",
              "    }\n",
              "\n",
              "    .dataframe tbody tr th {\n",
              "        vertical-align: top;\n",
              "    }\n",
              "\n",
              "    .dataframe thead th {\n",
              "        text-align: right;\n",
              "    }\n",
              "</style>\n",
              "<table border=\"1\" class=\"dataframe\">\n",
              "  <thead>\n",
              "    <tr style=\"text-align: right;\">\n",
              "      <th></th>\n",
              "      <th>id</th>\n",
              "      <th>budget</th>\n",
              "      <th>popularity</th>\n",
              "      <th>runtime</th>\n",
              "      <th>revenue</th>\n",
              "      <th>month</th>\n",
              "      <th>year</th>\n",
              "      <th>log_budget</th>\n",
              "      <th>log_revenue</th>\n",
              "      <th>log_popularity</th>\n",
              "    </tr>\n",
              "  </thead>\n",
              "  <tbody>\n",
              "    <tr>\n",
              "      <th>count</th>\n",
              "      <td>2509.000000</td>\n",
              "      <td>2.509000e+03</td>\n",
              "      <td>2509.000000</td>\n",
              "      <td>2509.000000</td>\n",
              "      <td>2.509000e+03</td>\n",
              "      <td>2509.000000</td>\n",
              "      <td>2509.000000</td>\n",
              "      <td>2509.000000</td>\n",
              "      <td>2509.000000</td>\n",
              "      <td>2509.000000</td>\n",
              "    </tr>\n",
              "    <tr>\n",
              "      <th>mean</th>\n",
              "      <td>1502.628537</td>\n",
              "      <td>3.108661e+07</td>\n",
              "      <td>8.403898</td>\n",
              "      <td>108.394580</td>\n",
              "      <td>7.388261e+07</td>\n",
              "      <td>6.786768</td>\n",
              "      <td>2001.649263</td>\n",
              "      <td>16.757384</td>\n",
              "      <td>16.639337</td>\n",
              "      <td>1.903859</td>\n",
              "    </tr>\n",
              "    <tr>\n",
              "      <th>std</th>\n",
              "      <td>870.648797</td>\n",
              "      <td>3.520497e+07</td>\n",
              "      <td>5.245715</td>\n",
              "      <td>19.793968</td>\n",
              "      <td>1.373159e+08</td>\n",
              "      <td>3.392865</td>\n",
              "      <td>11.002525</td>\n",
              "      <td>1.086357</td>\n",
              "      <td>2.130090</td>\n",
              "      <td>0.750550</td>\n",
              "    </tr>\n",
              "    <tr>\n",
              "      <th>min</th>\n",
              "      <td>1.000000</td>\n",
              "      <td>4.401410e+05</td>\n",
              "      <td>0.609080</td>\n",
              "      <td>40.000000</td>\n",
              "      <td>4.347100e+04</td>\n",
              "      <td>1.000000</td>\n",
              "      <td>1969.000000</td>\n",
              "      <td>12.994850</td>\n",
              "      <td>10.679849</td>\n",
              "      <td>-0.495806</td>\n",
              "    </tr>\n",
              "    <tr>\n",
              "      <th>25%</th>\n",
              "      <td>755.000000</td>\n",
              "      <td>1.200000e+07</td>\n",
              "      <td>5.063701</td>\n",
              "      <td>95.000000</td>\n",
              "      <td>5.080409e+06</td>\n",
              "      <td>4.000000</td>\n",
              "      <td>1994.000000</td>\n",
              "      <td>16.300417</td>\n",
              "      <td>15.440902</td>\n",
              "      <td>1.622098</td>\n",
              "    </tr>\n",
              "    <tr>\n",
              "      <th>50%</th>\n",
              "      <td>1501.000000</td>\n",
              "      <td>2.253133e+07</td>\n",
              "      <td>7.781790</td>\n",
              "      <td>105.000000</td>\n",
              "      <td>2.270706e+07</td>\n",
              "      <td>7.000000</td>\n",
              "      <td>2004.000000</td>\n",
              "      <td>16.930418</td>\n",
              "      <td>16.938187</td>\n",
              "      <td>2.051786</td>\n",
              "    </tr>\n",
              "    <tr>\n",
              "      <th>75%</th>\n",
              "      <td>2262.000000</td>\n",
              "      <td>3.500000e+07</td>\n",
              "      <td>11.184385</td>\n",
              "      <td>118.000000</td>\n",
              "      <td>8.355787e+07</td>\n",
              "      <td>10.000000</td>\n",
              "      <td>2011.000000</td>\n",
              "      <td>17.370859</td>\n",
              "      <td>18.241050</td>\n",
              "      <td>2.414519</td>\n",
              "    </tr>\n",
              "    <tr>\n",
              "      <th>max</th>\n",
              "      <td>3000.000000</td>\n",
              "      <td>3.800000e+08</td>\n",
              "      <td>53.291601</td>\n",
              "      <td>338.000000</td>\n",
              "      <td>1.506249e+09</td>\n",
              "      <td>12.000000</td>\n",
              "      <td>2016.000000</td>\n",
              "      <td>19.755682</td>\n",
              "      <td>21.132889</td>\n",
              "      <td>3.975779</td>\n",
              "    </tr>\n",
              "  </tbody>\n",
              "</table>\n",
              "</div>"
            ],
            "text/plain": [
              "                id        budget   popularity      runtime       revenue  \\\n",
              "count  2509.000000  2.509000e+03  2509.000000  2509.000000  2.509000e+03   \n",
              "mean   1502.628537  3.108661e+07     8.403898   108.394580  7.388261e+07   \n",
              "std     870.648797  3.520497e+07     5.245715    19.793968  1.373159e+08   \n",
              "min       1.000000  4.401410e+05     0.609080    40.000000  4.347100e+04   \n",
              "25%     755.000000  1.200000e+07     5.063701    95.000000  5.080409e+06   \n",
              "50%    1501.000000  2.253133e+07     7.781790   105.000000  2.270706e+07   \n",
              "75%    2262.000000  3.500000e+07    11.184385   118.000000  8.355787e+07   \n",
              "max    3000.000000  3.800000e+08    53.291601   338.000000  1.506249e+09   \n",
              "\n",
              "             month         year   log_budget  log_revenue  log_popularity  \n",
              "count  2509.000000  2509.000000  2509.000000  2509.000000     2509.000000  \n",
              "mean      6.786768  2001.649263    16.757384    16.639337        1.903859  \n",
              "std       3.392865    11.002525     1.086357     2.130090        0.750550  \n",
              "min       1.000000  1969.000000    12.994850    10.679849       -0.495806  \n",
              "25%       4.000000  1994.000000    16.300417    15.440902        1.622098  \n",
              "50%       7.000000  2004.000000    16.930418    16.938187        2.051786  \n",
              "75%      10.000000  2011.000000    17.370859    18.241050        2.414519  \n",
              "max      12.000000  2016.000000    19.755682    21.132889        3.975779  "
            ]
          },
          "metadata": {
            "tags": []
          },
          "execution_count": 29
        }
      ]
    },
    {
      "metadata": {
        "id": "tMPO667bkR5t",
        "colab_type": "code",
        "colab": {
          "base_uri": "https://localhost:8080/",
          "height": 195
        },
        "outputId": "8b7a2428-5323-47c7-89be-cdfae394db8b"
      },
      "cell_type": "code",
      "source": [
        "df_simp.head()"
      ],
      "execution_count": 30,
      "outputs": [
        {
          "output_type": "execute_result",
          "data": {
            "text/html": [
              "<div>\n",
              "<style scoped>\n",
              "    .dataframe tbody tr th:only-of-type {\n",
              "        vertical-align: middle;\n",
              "    }\n",
              "\n",
              "    .dataframe tbody tr th {\n",
              "        vertical-align: top;\n",
              "    }\n",
              "\n",
              "    .dataframe thead th {\n",
              "        text-align: right;\n",
              "    }\n",
              "</style>\n",
              "<table border=\"1\" class=\"dataframe\">\n",
              "  <thead>\n",
              "    <tr style=\"text-align: right;\">\n",
              "      <th></th>\n",
              "      <th>id</th>\n",
              "      <th>budget</th>\n",
              "      <th>overview</th>\n",
              "      <th>popularity</th>\n",
              "      <th>runtime</th>\n",
              "      <th>title</th>\n",
              "      <th>revenue</th>\n",
              "      <th>month</th>\n",
              "      <th>year</th>\n",
              "      <th>log_budget</th>\n",
              "      <th>log_revenue</th>\n",
              "      <th>log_popularity</th>\n",
              "    </tr>\n",
              "  </thead>\n",
              "  <tbody>\n",
              "    <tr>\n",
              "      <th>0</th>\n",
              "      <td>1</td>\n",
              "      <td>14000000</td>\n",
              "      <td>When Lou, who has become the \"father of the In...</td>\n",
              "      <td>6.575393</td>\n",
              "      <td>93</td>\n",
              "      <td>Hot Tub Time Machine 2</td>\n",
              "      <td>12314651</td>\n",
              "      <td>2</td>\n",
              "      <td>2015</td>\n",
              "      <td>16.454568</td>\n",
              "      <td>16.326300</td>\n",
              "      <td>1.883334</td>\n",
              "    </tr>\n",
              "    <tr>\n",
              "      <th>1</th>\n",
              "      <td>2</td>\n",
              "      <td>40000000</td>\n",
              "      <td>Mia Thermopolis is now a college graduate and ...</td>\n",
              "      <td>8.248895</td>\n",
              "      <td>113</td>\n",
              "      <td>The Princess Diaries 2: Royal Engagement</td>\n",
              "      <td>95149435</td>\n",
              "      <td>8</td>\n",
              "      <td>2004</td>\n",
              "      <td>17.504390</td>\n",
              "      <td>18.370959</td>\n",
              "      <td>2.110079</td>\n",
              "    </tr>\n",
              "    <tr>\n",
              "      <th>3</th>\n",
              "      <td>4</td>\n",
              "      <td>1200000</td>\n",
              "      <td>Vidya Bagchi (Vidya Balan) arrives in Kolkata ...</td>\n",
              "      <td>3.174936</td>\n",
              "      <td>122</td>\n",
              "      <td>Kahaani</td>\n",
              "      <td>16000000</td>\n",
              "      <td>3</td>\n",
              "      <td>2012</td>\n",
              "      <td>13.997832</td>\n",
              "      <td>16.588099</td>\n",
              "      <td>1.155287</td>\n",
              "    </tr>\n",
              "    <tr>\n",
              "      <th>4</th>\n",
              "      <td>5</td>\n",
              "      <td>22531334</td>\n",
              "      <td>Marine Boy is the story of a former national s...</td>\n",
              "      <td>1.148070</td>\n",
              "      <td>118</td>\n",
              "      <td>Marine Boy</td>\n",
              "      <td>3923970</td>\n",
              "      <td>2</td>\n",
              "      <td>2009</td>\n",
              "      <td>16.930418</td>\n",
              "      <td>15.182614</td>\n",
              "      <td>0.138082</td>\n",
              "    </tr>\n",
              "    <tr>\n",
              "      <th>5</th>\n",
              "      <td>6</td>\n",
              "      <td>8000000</td>\n",
              "      <td>Pinocchio and his friends, a glow worm and a m...</td>\n",
              "      <td>0.743274</td>\n",
              "      <td>83</td>\n",
              "      <td>Pinocchio and the Emperor of the Night</td>\n",
              "      <td>3261638</td>\n",
              "      <td>8</td>\n",
              "      <td>1987</td>\n",
              "      <td>15.894952</td>\n",
              "      <td>14.997740</td>\n",
              "      <td>-0.296691</td>\n",
              "    </tr>\n",
              "  </tbody>\n",
              "</table>\n",
              "</div>"
            ],
            "text/plain": [
              "   id    budget                                           overview  \\\n",
              "0   1  14000000  When Lou, who has become the \"father of the In...   \n",
              "1   2  40000000  Mia Thermopolis is now a college graduate and ...   \n",
              "3   4   1200000  Vidya Bagchi (Vidya Balan) arrives in Kolkata ...   \n",
              "4   5  22531334  Marine Boy is the story of a former national s...   \n",
              "5   6   8000000  Pinocchio and his friends, a glow worm and a m...   \n",
              "\n",
              "   popularity  runtime                                     title   revenue  \\\n",
              "0    6.575393       93                    Hot Tub Time Machine 2  12314651   \n",
              "1    8.248895      113  The Princess Diaries 2: Royal Engagement  95149435   \n",
              "3    3.174936      122                                   Kahaani  16000000   \n",
              "4    1.148070      118                                Marine Boy   3923970   \n",
              "5    0.743274       83    Pinocchio and the Emperor of the Night   3261638   \n",
              "\n",
              "   month  year  log_budget  log_revenue  log_popularity  \n",
              "0      2  2015   16.454568    16.326300        1.883334  \n",
              "1      8  2004   17.504390    18.370959        2.110079  \n",
              "3      3  2012   13.997832    16.588099        1.155287  \n",
              "4      2  2009   16.930418    15.182614        0.138082  \n",
              "5      8  1987   15.894952    14.997740       -0.296691  "
            ]
          },
          "metadata": {
            "tags": []
          },
          "execution_count": 30
        }
      ]
    },
    {
      "metadata": {
        "id": "EQObjasluuiS",
        "colab_type": "code",
        "colab": {
          "base_uri": "https://localhost:8080/",
          "height": 195
        },
        "outputId": "73926a3b-63b7-4d31-aefa-5d2ffcab7570"
      },
      "cell_type": "code",
      "source": [
        "import re\n",
        "\n",
        "# Functions to add binary categorical\n",
        "def is_sequel(inputString):\n",
        "    if any(char.isdigit() for char in inputString) == True:\n",
        "        return 1\n",
        "    else:\n",
        "        return 0\n",
        "      \n",
        "df_simp['is_seq'] = df_simp.title.apply(is_sequel)\n",
        "\n",
        "df_simp.head()"
      ],
      "execution_count": 85,
      "outputs": [
        {
          "output_type": "execute_result",
          "data": {
            "text/html": [
              "<div>\n",
              "<style scoped>\n",
              "    .dataframe tbody tr th:only-of-type {\n",
              "        vertical-align: middle;\n",
              "    }\n",
              "\n",
              "    .dataframe tbody tr th {\n",
              "        vertical-align: top;\n",
              "    }\n",
              "\n",
              "    .dataframe thead th {\n",
              "        text-align: right;\n",
              "    }\n",
              "</style>\n",
              "<table border=\"1\" class=\"dataframe\">\n",
              "  <thead>\n",
              "    <tr style=\"text-align: right;\">\n",
              "      <th></th>\n",
              "      <th>id</th>\n",
              "      <th>budget</th>\n",
              "      <th>overview</th>\n",
              "      <th>popularity</th>\n",
              "      <th>runtime</th>\n",
              "      <th>title</th>\n",
              "      <th>revenue</th>\n",
              "      <th>month</th>\n",
              "      <th>year</th>\n",
              "      <th>log_budget</th>\n",
              "      <th>log_revenue</th>\n",
              "      <th>log_popularity</th>\n",
              "      <th>is_seq</th>\n",
              "    </tr>\n",
              "  </thead>\n",
              "  <tbody>\n",
              "    <tr>\n",
              "      <th>0</th>\n",
              "      <td>1</td>\n",
              "      <td>14000000</td>\n",
              "      <td>When Lou, who has become the \"father of the In...</td>\n",
              "      <td>6.575393</td>\n",
              "      <td>93</td>\n",
              "      <td>Hot Tub Time Machine 2</td>\n",
              "      <td>12314651</td>\n",
              "      <td>2</td>\n",
              "      <td>2015</td>\n",
              "      <td>16.454568</td>\n",
              "      <td>16.326300</td>\n",
              "      <td>1.883334</td>\n",
              "      <td>1</td>\n",
              "    </tr>\n",
              "    <tr>\n",
              "      <th>1</th>\n",
              "      <td>2</td>\n",
              "      <td>40000000</td>\n",
              "      <td>Mia Thermopolis is now a college graduate and ...</td>\n",
              "      <td>8.248895</td>\n",
              "      <td>113</td>\n",
              "      <td>The Princess Diaries 2: Royal Engagement</td>\n",
              "      <td>95149435</td>\n",
              "      <td>8</td>\n",
              "      <td>2004</td>\n",
              "      <td>17.504390</td>\n",
              "      <td>18.370959</td>\n",
              "      <td>2.110079</td>\n",
              "      <td>1</td>\n",
              "    </tr>\n",
              "    <tr>\n",
              "      <th>3</th>\n",
              "      <td>4</td>\n",
              "      <td>1200000</td>\n",
              "      <td>Vidya Bagchi (Vidya Balan) arrives in Kolkata ...</td>\n",
              "      <td>3.174936</td>\n",
              "      <td>122</td>\n",
              "      <td>Kahaani</td>\n",
              "      <td>16000000</td>\n",
              "      <td>3</td>\n",
              "      <td>2012</td>\n",
              "      <td>13.997832</td>\n",
              "      <td>16.588099</td>\n",
              "      <td>1.155287</td>\n",
              "      <td>0</td>\n",
              "    </tr>\n",
              "    <tr>\n",
              "      <th>4</th>\n",
              "      <td>5</td>\n",
              "      <td>22531334</td>\n",
              "      <td>Marine Boy is the story of a former national s...</td>\n",
              "      <td>1.148070</td>\n",
              "      <td>118</td>\n",
              "      <td>Marine Boy</td>\n",
              "      <td>3923970</td>\n",
              "      <td>2</td>\n",
              "      <td>2009</td>\n",
              "      <td>16.930418</td>\n",
              "      <td>15.182614</td>\n",
              "      <td>0.138082</td>\n",
              "      <td>0</td>\n",
              "    </tr>\n",
              "    <tr>\n",
              "      <th>5</th>\n",
              "      <td>6</td>\n",
              "      <td>8000000</td>\n",
              "      <td>Pinocchio and his friends, a glow worm and a m...</td>\n",
              "      <td>0.743274</td>\n",
              "      <td>83</td>\n",
              "      <td>Pinocchio and the Emperor of the Night</td>\n",
              "      <td>3261638</td>\n",
              "      <td>8</td>\n",
              "      <td>1987</td>\n",
              "      <td>15.894952</td>\n",
              "      <td>14.997740</td>\n",
              "      <td>-0.296691</td>\n",
              "      <td>0</td>\n",
              "    </tr>\n",
              "  </tbody>\n",
              "</table>\n",
              "</div>"
            ],
            "text/plain": [
              "   id    budget                                           overview  \\\n",
              "0   1  14000000  When Lou, who has become the \"father of the In...   \n",
              "1   2  40000000  Mia Thermopolis is now a college graduate and ...   \n",
              "3   4   1200000  Vidya Bagchi (Vidya Balan) arrives in Kolkata ...   \n",
              "4   5  22531334  Marine Boy is the story of a former national s...   \n",
              "5   6   8000000  Pinocchio and his friends, a glow worm and a m...   \n",
              "\n",
              "   popularity  runtime                                     title   revenue  \\\n",
              "0    6.575393       93                    Hot Tub Time Machine 2  12314651   \n",
              "1    8.248895      113  The Princess Diaries 2: Royal Engagement  95149435   \n",
              "3    3.174936      122                                   Kahaani  16000000   \n",
              "4    1.148070      118                                Marine Boy   3923970   \n",
              "5    0.743274       83    Pinocchio and the Emperor of the Night   3261638   \n",
              "\n",
              "   month  year  log_budget  log_revenue  log_popularity  is_seq  \n",
              "0      2  2015   16.454568    16.326300        1.883334       1  \n",
              "1      8  2004   17.504390    18.370959        2.110079       1  \n",
              "3      3  2012   13.997832    16.588099        1.155287       0  \n",
              "4      2  2009   16.930418    15.182614        0.138082       0  \n",
              "5      8  1987   15.894952    14.997740       -0.296691       0  "
            ]
          },
          "metadata": {
            "tags": []
          },
          "execution_count": 85
        }
      ]
    },
    {
      "metadata": {
        "id": "E3QEKotqxcA5",
        "colab_type": "code",
        "colab": {
          "base_uri": "https://localhost:8080/",
          "height": 513
        },
        "outputId": "bbb538d7-a356-44a3-b074-53282b34186c"
      },
      "cell_type": "code",
      "source": [
        "# Exploring film counts released per year\n",
        "\n",
        "# We need to remove unreleased films\n",
        "z = df_simp.groupby(by=['is_seq'], as_index=False).sum()\n",
        "\n",
        "plt.figure(figsize=(14, 7))\n",
        "sns.set_style(\"whitegrid\")\n",
        "ax = sns.barplot(x=z['is_seq'], y=z['log_revenue'], data=z)\n",
        "plt.xlabel(\"\\nSequel Status\")\n",
        "plt.xticks(rotation=0)\n",
        "plt.ylabel(\"Log Revenue\")\n",
        "plt.title(\"Log Revenue By Sequel Status\\n\")\n",
        "plt.tight_layout()\n",
        "#plt.savefig(\"Counts By Language.png\", dpi =300)\n",
        "plt.show()"
      ],
      "execution_count": 103,
      "outputs": [
        {
          "output_type": "display_data",
          "data": {
            "image/png": "[encoded data removed]",
            "text/plain": [
              "<Figure size 1008x504 with 1 Axes>"
            ]
          },
          "metadata": {
            "tags": []
          }
        }
      ]
    },
    {
      "metadata": {
        "id": "BZJW000T8_sf",
        "colab_type": "text"
      },
      "cell_type": "markdown",
      "source": [
        "# **Principal Component Analysis**"
      ]
    },
    {
      "metadata": {
        "id": "GA9baMNSlOjS",
        "colab_type": "code",
        "colab": {
          "base_uri": "https://localhost:8080/",
          "height": 195
        },
        "outputId": "47d9820e-8ab1-4dc6-eec2-5bf1d0396452"
      },
      "cell_type": "code",
      "source": [
        "features = df_simp\n",
        "to_drop = ['id', 'popularity', 'budget', 'overview', 'title', 'revenue']\n",
        "features = features.drop(to_drop, axis = 1)\n",
        "\n",
        "features.head()"
      ],
      "execution_count": 86,
      "outputs": [
        {
          "output_type": "execute_result",
          "data": {
            "text/html": [
              "<div>\n",
              "<style scoped>\n",
              "    .dataframe tbody tr th:only-of-type {\n",
              "        vertical-align: middle;\n",
              "    }\n",
              "\n",
              "    .dataframe tbody tr th {\n",
              "        vertical-align: top;\n",
              "    }\n",
              "\n",
              "    .dataframe thead th {\n",
              "        text-align: right;\n",
              "    }\n",
              "</style>\n",
              "<table border=\"1\" class=\"dataframe\">\n",
              "  <thead>\n",
              "    <tr style=\"text-align: right;\">\n",
              "      <th></th>\n",
              "      <th>runtime</th>\n",
              "      <th>month</th>\n",
              "      <th>year</th>\n",
              "      <th>log_budget</th>\n",
              "      <th>log_revenue</th>\n",
              "      <th>log_popularity</th>\n",
              "      <th>is_seq</th>\n",
              "    </tr>\n",
              "  </thead>\n",
              "  <tbody>\n",
              "    <tr>\n",
              "      <th>0</th>\n",
              "      <td>93</td>\n",
              "      <td>2</td>\n",
              "      <td>2015</td>\n",
              "      <td>16.454568</td>\n",
              "      <td>16.326300</td>\n",
              "      <td>1.883334</td>\n",
              "      <td>1</td>\n",
              "    </tr>\n",
              "    <tr>\n",
              "      <th>1</th>\n",
              "      <td>113</td>\n",
              "      <td>8</td>\n",
              "      <td>2004</td>\n",
              "      <td>17.504390</td>\n",
              "      <td>18.370959</td>\n",
              "      <td>2.110079</td>\n",
              "      <td>1</td>\n",
              "    </tr>\n",
              "    <tr>\n",
              "      <th>3</th>\n",
              "      <td>122</td>\n",
              "      <td>3</td>\n",
              "      <td>2012</td>\n",
              "      <td>13.997832</td>\n",
              "      <td>16.588099</td>\n",
              "      <td>1.155287</td>\n",
              "      <td>0</td>\n",
              "    </tr>\n",
              "    <tr>\n",
              "      <th>4</th>\n",
              "      <td>118</td>\n",
              "      <td>2</td>\n",
              "      <td>2009</td>\n",
              "      <td>16.930418</td>\n",
              "      <td>15.182614</td>\n",
              "      <td>0.138082</td>\n",
              "      <td>0</td>\n",
              "    </tr>\n",
              "    <tr>\n",
              "      <th>5</th>\n",
              "      <td>83</td>\n",
              "      <td>8</td>\n",
              "      <td>1987</td>\n",
              "      <td>15.894952</td>\n",
              "      <td>14.997740</td>\n",
              "      <td>-0.296691</td>\n",
              "      <td>0</td>\n",
              "    </tr>\n",
              "  </tbody>\n",
              "</table>\n",
              "</div>"
            ],
            "text/plain": [
              "   runtime  month  year  log_budget  log_revenue  log_popularity  is_seq\n",
              "0       93      2  2015   16.454568    16.326300        1.883334       1\n",
              "1      113      8  2004   17.504390    18.370959        2.110079       1\n",
              "3      122      3  2012   13.997832    16.588099        1.155287       0\n",
              "4      118      2  2009   16.930418    15.182614        0.138082       0\n",
              "5       83      8  1987   15.894952    14.997740       -0.296691       0"
            ]
          },
          "metadata": {
            "tags": []
          },
          "execution_count": 86
        }
      ]
    },
    {
      "metadata": {
        "id": "HxCa6FKwZDZj",
        "colab_type": "code",
        "outputId": "9d56d10a-1223-420b-a9ab-3edc7e06a632",
        "colab": {
          "base_uri": "https://localhost:8080/",
          "height": 294
        }
      },
      "cell_type": "code",
      "source": [
        "# PCA from 5 features to 5 PCs\n",
        "from sklearn.decomposition import PCA\n",
        "from sklearn import preprocessing\n",
        "\n",
        "#Defining X and Y\n",
        "X = features.loc[\n",
        "    :, (features.columns != 'log_revenue')]\n",
        "y = features['log_revenue']\n",
        "\n",
        "X_scaled = pd.DataFrame(preprocessing.scale(\n",
        "    X), index=X.index, columns=X.columns)\n",
        "\n",
        "X_scaled_df = pd.DataFrame(X_scaled, columns=X.columns)\n",
        "\n",
        "pca = PCA(n_components=6)\n",
        "pc = pca.fit_transform(X_scaled)\n",
        "principalDf = pd.DataFrame(data=pc)\n",
        "\n",
        "# The following code constructs the Scree plot\n",
        "per_var = np.round(pca.explained_variance_ratio_ * 100, decimals=1)\n",
        "labels = ['PC' + str(x) for x in range(1, len(per_var)+1)]\n",
        "\n",
        "plt.bar(x=range(1, len(per_var)+1), height=per_var, tick_label=labels)\n",
        "plt.ylabel('Percentage of Explained Variance')\n",
        "plt.xlabel('Principal Component')\n",
        "plt.title('Scree Plot')\n",
        "plt.show()"
      ],
      "execution_count": 87,
      "outputs": [
        {
          "output_type": "display_data",
          "data": {
            "image/png": "[encoded data removed]",
            "text/plain": [
              "<Figure size 432x288 with 1 Axes>"
            ]
          },
          "metadata": {
            "tags": []
          }
        }
      ]
    },
    {
      "metadata": {
        "id": "p9s7TAiheaPC",
        "colab_type": "text"
      },
      "cell_type": "markdown",
      "source": [
        "# Machine Learning - Continuous Variables Only "
      ]
    },
    {
      "metadata": {
        "id": "_k6oiziUaJ89",
        "colab_type": "code",
        "colab": {}
      },
      "cell_type": "code",
      "source": [
        "# Setting up variables for ML\n",
        "\n",
        "## PCA Variables ##\n",
        "X_pc = pc[:, 0:2]\n",
        "\n",
        "X_train_pc, X_test_pc, y_train_pc, y_test_pc = train_test_split(\n",
        "    X_pc, y, test_size=0.2, random_state=42)\n",
        "\n",
        "## Raw Variables ##\n",
        "X_train, X_test, y_train, y_test = train_test_split(\n",
        "    X, y, test_size=0.2, random_state=42)"
      ],
      "execution_count": 0,
      "outputs": []
    },
    {
      "metadata": {
        "id": "CVcxKfqtzHZ6",
        "colab_type": "code",
        "colab": {}
      },
      "cell_type": "code",
      "source": [
        "# Defining cross-validation parameters.\n",
        "from sklearn.model_selection import ShuffleSplit\n",
        "cv = ShuffleSplit(n_splits=5, test_size=0.2, random_state=42)\n",
        "\n",
        "# Defining a function to fit and predict ML algorithms\n",
        "def auto_model(mod, model_name, X_train, X_test, y_train, y_test):\n",
        "    #Track Runtime\n",
        "    t0 = time()\n",
        "    mod.fit(X_train, y_train)\n",
        "    modfit = mod.fit(X_train, y_train)\n",
        "    print(model_name)\n",
        "    print(\"done in %0.3fs\" % (time() - t0))\n",
        "    \n",
        "    #Inspect the results.\n",
        "    print('Accuracy Score: \\n', modfit.score(X_test, y_test))\n",
        "\n",
        "    # Cross validation\n",
        "    score = cross_val_score(modfit, X, y, cv=cv)\n",
        "    print(\"\\nMean (SD) Cross Validation Score: %0.2f (+/- %0.2f)\" %\n",
        "          (score.mean(), score.std() * 2))\n",
        "    print('\\nCross Validation Scores:')\n",
        "    print(score)\n",
        "    \n",
        "# Defining a function to fit and predict ML algorithms\n",
        "def auto_model_nhb(mod, model_name, X, y):\n",
        "    #Track Runtime\n",
        "    t0 = time()\n",
        "    mod.fit(X, y)\n",
        "    modfit = mod.fit(X, y)\n",
        "    print(model_name)\n",
        "    print(\"done in %0.3fs\" % (time() - t0))\n",
        "    \n",
        "    #Inspect the results.\n",
        "    print('Accuracy Score: \\n', modfit.score(X, y))\n",
        "\n",
        "    # Cross validation\n",
        "    score = cross_val_score(modfit, X, y, cv=cv)\n",
        "    print(\"\\nMean (SD) Cross Validation Score: %0.2f (+/- %0.2f)\" %\n",
        "          (score.mean(), score.std() * 2))\n",
        "    print('\\nCross Validation Scores:')\n",
        "    print(score)    "
      ],
      "execution_count": 0,
      "outputs": []
    },
    {
      "metadata": {
        "id": "kOU7FsXwIdSx",
        "colab_type": "code",
        "colab": {}
      },
      "cell_type": "code",
      "source": [
        ""
      ],
      "execution_count": 0,
      "outputs": []
    },
    {
      "metadata": {
        "colab_type": "text",
        "id": "3Y7Jh83nI7Qz"
      },
      "cell_type": "markdown",
      "source": [
        "# **Regression - No Holdback**"
      ]
    },
    {
      "metadata": {
        "colab_type": "code",
        "outputId": "bda3ca27-fe60-44ca-cce6-55679434267c",
        "id": "uBhlQsEFI7Q2",
        "colab": {
          "base_uri": "https://localhost:8080/",
          "height": 168
        }
      },
      "cell_type": "code",
      "source": [
        "# Linear Regression\n",
        "regr = linear_model.LinearRegression()\n",
        "auto_model_nhb(regr, \"OLS Regression\", X, y)"
      ],
      "execution_count": 90,
      "outputs": [
        {
          "output_type": "stream",
          "text": [
            "OLS Regression\n",
            "done in 0.012s\n",
            "Accuracy Score: \n",
            " 0.38733637254520276\n",
            "\n",
            "Mean (SD) Cross Validation Score: 0.39 (+/- 0.09)\n",
            "\n",
            "Cross Validation Scores:\n",
            "[0.45535627 0.40684037 0.39453349 0.32211298 0.36171223]\n"
          ],
          "name": "stdout"
        }
      ]
    },
    {
      "metadata": {
        "colab_type": "code",
        "outputId": "f27f6dd1-a938-4134-aec3-7c4268a97ceb",
        "id": "0OrjcBhPI7RB",
        "colab": {
          "base_uri": "https://localhost:8080/",
          "height": 168
        }
      },
      "cell_type": "code",
      "source": [
        "# Lasso Regression\n",
        "lass = linear_model.Lasso(alpha=.35)\n",
        "auto_model_nhb(lass, \"Lasso Regression\", X, y)"
      ],
      "execution_count": 91,
      "outputs": [
        {
          "output_type": "stream",
          "text": [
            "Lasso Regression\n",
            "done in 0.010s\n",
            "Accuracy Score: \n",
            " 0.3235856966625885\n",
            "\n",
            "Mean (SD) Cross Validation Score: 0.31 (+/- 0.06)\n",
            "\n",
            "Cross Validation Scores:\n",
            "[0.34710518 0.34417402 0.32226954 0.28756429 0.2655085 ]\n"
          ],
          "name": "stdout"
        }
      ]
    },
    {
      "metadata": {
        "colab_type": "code",
        "outputId": "d78c03c9-08e2-42cb-9bf9-16cdeafe9c70",
        "id": "Zszwjr5iI7RS",
        "colab": {
          "base_uri": "https://localhost:8080/",
          "height": 168
        }
      },
      "cell_type": "code",
      "source": [
        "# Ridge Regression\n",
        "ridgeregr = linear_model.Ridge(alpha=.5, fit_intercept=True)\n",
        "auto_model_nhb(ridgeregr, \"Ridge Regression\", X, y)"
      ],
      "execution_count": 92,
      "outputs": [
        {
          "output_type": "stream",
          "text": [
            "Ridge Regression\n",
            "done in 0.013s\n",
            "Accuracy Score: \n",
            " 0.3873363178473589\n",
            "\n",
            "Mean (SD) Cross Validation Score: 0.39 (+/- 0.09)\n",
            "\n",
            "Cross Validation Scores:\n",
            "[0.45532139 0.40682013 0.39450981 0.32215038 0.36166906]\n"
          ],
          "name": "stdout"
        }
      ]
    },
    {
      "metadata": {
        "colab_type": "code",
        "outputId": "7394dbd5-e9df-4260-d797-54ba7ab492ae",
        "id": "7zgMqwFQI7RW",
        "colab": {
          "base_uri": "https://localhost:8080/",
          "height": 168
        }
      },
      "cell_type": "code",
      "source": [
        "# Random Forest Regression\n",
        "rfr = ensemble.RandomForestRegressor()\n",
        "auto_model_nhb(rfr, \"Random Forest Regression\", X, y)"
      ],
      "execution_count": 93,
      "outputs": [
        {
          "output_type": "stream",
          "text": [
            "Random Forest Regression\n",
            "done in 0.153s\n",
            "Accuracy Score: \n",
            " 0.9088855700489371\n",
            "\n",
            "Mean (SD) Cross Validation Score: 0.47 (+/- 0.04)\n",
            "\n",
            "Cross Validation Scores:\n",
            "[0.50304279 0.44287198 0.48480004 0.46396651 0.47906674]\n"
          ],
          "name": "stdout"
        }
      ]
    },
    {
      "metadata": {
        "colab_type": "text",
        "id": "vw_4uUIuIdl3"
      },
      "cell_type": "markdown",
      "source": [
        "# **Regression**"
      ]
    },
    {
      "metadata": {
        "colab_type": "code",
        "outputId": "b7613620-b696-4c61-ade1-4105536ba120",
        "id": "V_f_hZDmIdl4",
        "colab": {
          "base_uri": "https://localhost:8080/",
          "height": 168
        }
      },
      "cell_type": "code",
      "source": [
        "# Linear Regression\n",
        "regr = linear_model.LinearRegression()\n",
        "auto_model(regr, \"OLS Regression\",\n",
        "           X_train, X_test, y_train, y_test)"
      ],
      "execution_count": 94,
      "outputs": [
        {
          "output_type": "stream",
          "text": [
            "OLS Regression\n",
            "done in 0.005s\n",
            "Accuracy Score: \n",
            " 0.4553562709848879\n",
            "\n",
            "Mean (SD) Cross Validation Score: 0.39 (+/- 0.09)\n",
            "\n",
            "Cross Validation Scores:\n",
            "[0.45535627 0.40684037 0.39453349 0.32211298 0.36171223]\n"
          ],
          "name": "stdout"
        }
      ]
    },
    {
      "metadata": {
        "colab_type": "code",
        "outputId": "4d9cea5d-4b37-4c97-e461-35b9f65e66c2",
        "id": "Ny0mbYXpIdl-",
        "colab": {
          "base_uri": "https://localhost:8080/",
          "height": 168
        }
      },
      "cell_type": "code",
      "source": [
        "# Lasso Regression\n",
        "lass = linear_model.Lasso(alpha=.35)\n",
        "auto_model(lass, \"Lasso Regression\", \n",
        "              X_train, X_test, y_train, y_test)"
      ],
      "execution_count": 95,
      "outputs": [
        {
          "output_type": "stream",
          "text": [
            "Lasso Regression\n",
            "done in 0.008s\n",
            "Accuracy Score: \n",
            " 0.3471051806624271\n",
            "\n",
            "Mean (SD) Cross Validation Score: 0.31 (+/- 0.06)\n",
            "\n",
            "Cross Validation Scores:\n",
            "[0.34710518 0.34417402 0.32226954 0.28756429 0.2655085 ]\n"
          ],
          "name": "stdout"
        }
      ]
    },
    {
      "metadata": {
        "colab_type": "code",
        "outputId": "b19c320e-ffe5-498c-8a92-8d3f687ad75e",
        "id": "G2nYp4UYIdmC",
        "colab": {
          "base_uri": "https://localhost:8080/",
          "height": 168
        }
      },
      "cell_type": "code",
      "source": [
        "# Ridge Regression\n",
        "ridgeregr = linear_model.Ridge(alpha=.5, fit_intercept=True)\n",
        "auto_model(ridgeregr, \"Ridge Regression\", \n",
        "           X_train, X_test, y_train, y_test)"
      ],
      "execution_count": 96,
      "outputs": [
        {
          "output_type": "stream",
          "text": [
            "Ridge Regression\n",
            "done in 0.008s\n",
            "Accuracy Score: \n",
            " 0.45532138914693954\n",
            "\n",
            "Mean (SD) Cross Validation Score: 0.39 (+/- 0.09)\n",
            "\n",
            "Cross Validation Scores:\n",
            "[0.45532139 0.40682013 0.39450981 0.32215038 0.36166906]\n"
          ],
          "name": "stdout"
        }
      ]
    },
    {
      "metadata": {
        "colab_type": "code",
        "outputId": "1ed9fc3b-8d1e-4e33-f768-848df5518079",
        "id": "m7Gq4vaBIdmG",
        "colab": {
          "base_uri": "https://localhost:8080/",
          "height": 168
        }
      },
      "cell_type": "code",
      "source": [
        "# Random Forest Regression\n",
        "rfr = ensemble.RandomForestRegressor()\n",
        "auto_model(rfr, \"Random Forest Regression\",\n",
        "          X_train, X_test, y_train, y_test)"
      ],
      "execution_count": 97,
      "outputs": [
        {
          "output_type": "stream",
          "text": [
            "Random Forest Regression\n",
            "done in 0.129s\n",
            "Accuracy Score: \n",
            " 0.49024440150261384\n",
            "\n",
            "Mean (SD) Cross Validation Score: 0.46 (+/- 0.05)\n",
            "\n",
            "Cross Validation Scores:\n",
            "[0.48346648 0.42025082 0.49437174 0.44082384 0.45208671]\n"
          ],
          "name": "stdout"
        }
      ]
    },
    {
      "metadata": {
        "id": "R_p-sGKuch4Y",
        "colab_type": "text"
      },
      "cell_type": "markdown",
      "source": [
        "# **PCA Regression**"
      ]
    },
    {
      "metadata": {
        "colab_type": "code",
        "outputId": "35edefba-11ec-488c-bd7b-72a8e84278df",
        "id": "mXY2Lt0zb34o",
        "colab": {
          "base_uri": "https://localhost:8080/",
          "height": 168
        }
      },
      "cell_type": "code",
      "source": [
        "# Linear Regression\n",
        "regr = linear_model.LinearRegression()\n",
        "auto_model(regr, \"OLS Regression\",\n",
        "           X_train_pc, X_test_pc, y_train_pc, y_test_pc)"
      ],
      "execution_count": 98,
      "outputs": [
        {
          "output_type": "stream",
          "text": [
            "OLS Regression\n",
            "done in 0.004s\n",
            "Accuracy Score: \n",
            " 0.33977273843206524\n",
            "\n",
            "Mean (SD) Cross Validation Score: 0.39 (+/- 0.09)\n",
            "\n",
            "Cross Validation Scores:\n",
            "[0.45535627 0.40684037 0.39453349 0.32211298 0.36171223]\n"
          ],
          "name": "stdout"
        }
      ]
    },
    {
      "metadata": {
        "colab_type": "code",
        "outputId": "569cb734-fe17-4a17-d17b-a3c71ef78c3a",
        "id": "JmomD2HFb342",
        "colab": {
          "base_uri": "https://localhost:8080/",
          "height": 168
        }
      },
      "cell_type": "code",
      "source": [
        "# Lasso Regression\n",
        "lass = linear_model.Lasso(alpha=.35)\n",
        "auto_model(lass, \"Lasso Regression\", \n",
        "              X_train_pc, X_test_pc, y_train_pc, y_test_pc)"
      ],
      "execution_count": 99,
      "outputs": [
        {
          "output_type": "stream",
          "text": [
            "Lasso Regression\n",
            "done in 0.003s\n",
            "Accuracy Score: \n",
            " 0.28571903972361634\n",
            "\n",
            "Mean (SD) Cross Validation Score: 0.31 (+/- 0.06)\n",
            "\n",
            "Cross Validation Scores:\n",
            "[0.34710518 0.34417402 0.32226954 0.28756429 0.2655085 ]\n"
          ],
          "name": "stdout"
        }
      ]
    },
    {
      "metadata": {
        "colab_type": "code",
        "outputId": "2d788975-3844-4aa7-b215-f83366846cfa",
        "id": "CazkeHsJb35B",
        "colab": {
          "base_uri": "https://localhost:8080/",
          "height": 168
        }
      },
      "cell_type": "code",
      "source": [
        "# Ridge Regression\n",
        "ridgeregr = linear_model.Ridge(alpha=.5, fit_intercept=True)\n",
        "auto_model(ridgeregr, \"Ridge Regression\", \n",
        "           X_train_pc, X_test_pc, y_train_pc, y_test_pc)"
      ],
      "execution_count": 100,
      "outputs": [
        {
          "output_type": "stream",
          "text": [
            "Ridge Regression\n",
            "done in 0.005s\n",
            "Accuracy Score: \n",
            " 0.33975411808392286\n",
            "\n",
            "Mean (SD) Cross Validation Score: 0.39 (+/- 0.09)\n",
            "\n",
            "Cross Validation Scores:\n",
            "[0.45532139 0.40682013 0.39450981 0.32215038 0.36166906]\n"
          ],
          "name": "stdout"
        }
      ]
    },
    {
      "metadata": {
        "colab_type": "code",
        "outputId": "5d90b442-4604-4edd-9647-5c9cc5b42635",
        "id": "aSUlrESbb35K",
        "colab": {
          "base_uri": "https://localhost:8080/",
          "height": 168
        }
      },
      "cell_type": "code",
      "source": [
        "# Random Forest Regression\n",
        "rfr = ensemble.RandomForestRegressor()\n",
        "auto_model(rfr, \"Random Forest Regression\",\n",
        "          X_train_pc, X_test_pc, y_train_pc, y_test_pc)"
      ],
      "execution_count": 101,
      "outputs": [
        {
          "output_type": "stream",
          "text": [
            "Random Forest Regression\n",
            "done in 0.099s\n",
            "Accuracy Score: \n",
            " 0.17141543684905303\n",
            "\n",
            "Mean (SD) Cross Validation Score: 0.45 (+/- 0.07)\n",
            "\n",
            "Cross Validation Scores:\n",
            "[0.48319556 0.38780047 0.45230489 0.48126417 0.46384079]\n"
          ],
          "name": "stdout"
        }
      ]
    },
    {
      "metadata": {
        "id": "-p-kcDJUHgki",
        "colab_type": "code",
        "colab": {}
      },
      "cell_type": "code",
      "source": [
        ""
      ],
      "execution_count": 0,
      "outputs": []
    },
    {
      "metadata": {
        "id": "ZFlYwdjTxabq",
        "colab_type": "code",
        "colab": {}
      },
      "cell_type": "code",
      "source": [
        ""
      ],
      "execution_count": 0,
      "outputs": []
    },
    {
      "metadata": {
        "id": "LcqR99Yvxxmb",
        "colab_type": "code",
        "colab": {}
      },
      "cell_type": "code",
      "source": [
        ""
      ],
      "execution_count": 0,
      "outputs": []
    }
  ]
}